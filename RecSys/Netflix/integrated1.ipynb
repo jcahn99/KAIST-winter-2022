{
 "cells": [
  {
   "cell_type": "code",
   "execution_count": 54,
   "id": "88707a80",
   "metadata": {},
   "outputs": [],
   "source": [
    "import numpy as np\n",
    "import pandas as pd\n",
    "from sklearn.model_selection import train_test_split\n",
    "from sklearn.metrics import mean_squared_error\n",
    "from datetime import datetime\n",
    "from collections import defaultdict"
   ]
  },
  {
   "cell_type": "code",
   "execution_count": 3,
   "id": "03da03b8",
   "metadata": {},
   "outputs": [],
   "source": [
    "df = pd.read_csv('Netflix_rating_reduced.csv')"
   ]
  },
  {
   "cell_type": "code",
   "execution_count": 4,
   "id": "ee98f22e",
   "metadata": {},
   "outputs": [],
   "source": [
    "df_train, df_test = train_test_split(df, stratify=df['User_ID'], test_size=0.3, random_state=13)"
   ]
  },
  {
   "cell_type": "code",
   "execution_count": 8,
   "id": "62505129",
   "metadata": {},
   "outputs": [
    {
     "data": {
      "text/plain": [
       "(2304765, 3)"
      ]
     },
     "execution_count": 8,
     "metadata": {},
     "output_type": "execute_result"
    }
   ],
   "source": [
    "df_train.shape"
   ]
  },
  {
   "cell_type": "code",
   "execution_count": 55,
   "id": "df79acda",
   "metadata": {},
   "outputs": [
    {
     "data": {
      "text/plain": [
       "(987757, 3)"
      ]
     },
     "execution_count": 55,
     "metadata": {},
     "output_type": "execute_result"
    }
   ],
   "source": [
    "df_test.shape"
   ]
  },
  {
   "cell_type": "code",
   "execution_count": 12,
   "id": "577462ea",
   "metadata": {},
   "outputs": [],
   "source": [
    "trainset = df_train.pivot_table(df_train, index='User_ID', columns='Movie_ID')\n",
    "trainset.fillna(0., inplace=True)"
   ]
  },
  {
   "cell_type": "code",
   "execution_count": 13,
   "id": "e6dc3780",
   "metadata": {},
   "outputs": [],
   "source": [
    "testset = df_train.pivot_table(df_train, index='User_ID', columns='Movie_ID')\n",
    "testset.fillna(0., inplace=True)"
   ]
  },
  {
   "cell_type": "code",
   "execution_count": 17,
   "id": "d5c33a76",
   "metadata": {},
   "outputs": [],
   "source": [
    "train = trainset.to_numpy()\n",
    "test = testset.to_numpy()"
   ]
  },
  {
   "cell_type": "code",
   "execution_count": 22,
   "id": "e9c807db",
   "metadata": {},
   "outputs": [
    {
     "data": {
      "text/plain": [
       "(27329, 1350)"
      ]
     },
     "execution_count": 22,
     "metadata": {},
     "output_type": "execute_result"
    }
   ],
   "source": [
    "test.shape"
   ]
  },
  {
   "cell_type": "code",
   "execution_count": 83,
   "id": "d32c92dd",
   "metadata": {},
   "outputs": [
    {
     "ename": "NameError",
     "evalue": "name 'R_u' is not defined",
     "output_type": "error",
     "traceback": [
      "\u001b[1;31m---------------------------------------------------------------------------\u001b[0m",
      "\u001b[1;31mNameError\u001b[0m                                 Traceback (most recent call last)",
      "\u001b[1;32m~\\AppData\\Local\\Temp/ipykernel_15912/1065714678.py\u001b[0m in \u001b[0;36m<module>\u001b[1;34m\u001b[0m\n\u001b[0;32m      3\u001b[0m     \u001b[1;32mfor\u001b[0m \u001b[0mi\u001b[0m \u001b[1;32min\u001b[0m \u001b[0mrange\u001b[0m\u001b[1;33m(\u001b[0m\u001b[0mtrain\u001b[0m\u001b[1;33m.\u001b[0m\u001b[0mshape\u001b[0m\u001b[1;33m[\u001b[0m\u001b[1;36m1\u001b[0m\u001b[1;33m]\u001b[0m\u001b[1;33m)\u001b[0m\u001b[1;33m:\u001b[0m\u001b[1;33m\u001b[0m\u001b[1;33m\u001b[0m\u001b[0m\n\u001b[0;32m      4\u001b[0m         \u001b[1;32mif\u001b[0m \u001b[0mtrain\u001b[0m\u001b[1;33m[\u001b[0m\u001b[0mu\u001b[0m\u001b[1;33m,\u001b[0m\u001b[0mi\u001b[0m\u001b[1;33m]\u001b[0m \u001b[1;33m!=\u001b[0m \u001b[1;36m0\u001b[0m\u001b[1;33m:\u001b[0m\u001b[1;33m\u001b[0m\u001b[1;33m\u001b[0m\u001b[0m\n\u001b[1;32m----> 5\u001b[1;33m             \u001b[0mkk\u001b[0m\u001b[1;33m.\u001b[0m\u001b[0mappend\u001b[0m\u001b[1;33m(\u001b[0m\u001b[0mlen\u001b[0m\u001b[1;33m(\u001b[0m\u001b[0mnp\u001b[0m\u001b[1;33m.\u001b[0m\u001b[0mintersect1d\u001b[0m\u001b[1;33m(\u001b[0m\u001b[0mR_u\u001b[0m\u001b[1;33m[\u001b[0m\u001b[0mu\u001b[0m\u001b[1;33m]\u001b[0m\u001b[1;33m,\u001b[0m \u001b[0mS_k_r\u001b[0m\u001b[1;33m[\u001b[0m\u001b[0mi\u001b[0m\u001b[1;33m]\u001b[0m\u001b[1;33m)\u001b[0m\u001b[1;33m)\u001b[0m\u001b[1;33m)\u001b[0m\u001b[1;33m\u001b[0m\u001b[1;33m\u001b[0m\u001b[0m\n\u001b[0m",
      "\u001b[1;31mNameError\u001b[0m: name 'R_u' is not defined"
     ]
    }
   ],
   "source": [
    "kk = []\n",
    "for u in range(train.shape[0]):\n",
    "    for i in range(train.shape[1]):\n",
    "        if train[u,i] != 0:\n",
    "            kk.append(len(np.intersect1d(R_u[u], S_k_r[i])))"
   ]
  },
  {
   "cell_type": "code",
   "execution_count": 95,
   "id": "86d7f962",
   "metadata": {},
   "outputs": [],
   "source": [
    "class integrated_model():\n",
    "    def __init__(self, train, test, factors, neighbors, epochs, verbose = False):\n",
    "        self.R = train\n",
    "        self.test = test\n",
    "        self.n_users, self.n_items = train.shape\n",
    "        self.gamma1 = 0.007\n",
    "        self.gamma2 = 0.007       #learning_rate\n",
    "        self.gamma3 = 0.001                    #learning_rate \n",
    "        self.lambda6 = 0.005                   #regularization_parameter\n",
    "        self.lambda7 = 0.015 \n",
    "        self.lambda8 = 0.015     #regularization_parameter\n",
    "        self.f = factors                       #factor_size\n",
    "        self.k = neighbors\n",
    "        self.epochs = epochs\n",
    "        self.verbose = verbose\n",
    "        \n",
    "        np.random.seed(101)\n",
    "        self.P = np.random.standard_normal((self.n_users, self.f))\n",
    "        self.Q = np.random.standard_normal((self.n_items, self.f))\n",
    "        self.y = np.random.standard_normal((self.n_items, self.f))\n",
    "        self.w = np.random.standard_normal((self.n_items, self.n_items))\n",
    "        self.c = np.random.standard_normal((self.n_items, self.n_items))\n",
    "        self.imp = (train > 0).astype(float)\n",
    "        (self.R_u, self.S_k_r), (self.N_u, self.S_k_n) = self.get_neighbor(train, self.imp)\n",
    "        self.R_k_iu = []\n",
    "        self.N_k_iu = []\n",
    "        #biases term\n",
    "        self.b_u = np.zeros(self.n_users)\n",
    "        self.b_i = np.zeros(self.n_items)\n",
    "        self.mu = np.mean(self.R[np.where(self.R != 0)])\n",
    "        self.squared_error = defaultdict(float)\n",
    "    \n",
    "    def get_neighbor(self, train, imp, lambda2=100):\n",
    "        neighbor = []\n",
    "        imp = self.imp\n",
    "        for data in [train, imp]:\n",
    "            rho = np.corrcoef(data.T)\n",
    "            rho = np.nan_to_num(rho, nan = -1)\n",
    "            n_ij = np.dot(imp.T, imp)\n",
    "            \n",
    "            S = n_ij/(n_ij+lambda2) * rho\n",
    "            np.fill_diagonal(S, -1)\n",
    "            R_u = {u: data[u,:].nonzero() for u in range(len(data))}\n",
    "            S_k = {i: np.argsort(S[i,:])[-self.k] for i in range(len(S))}\n",
    "            neighbor.append((R_u, S_k))\n",
    "        return neighbor\n",
    "    \n",
    "    def fit(self):\n",
    "        start = datetime.now()\n",
    "        for epoch in range(self.epochs):\n",
    "            n=0\n",
    "            for u in range(self.n_users):\n",
    "                N_u = np.where(self.imp[u,:] != 0)[0]\n",
    "                for i in range(self.n_items):\n",
    "                    if self.R[u,i] > 0:\n",
    "                        R_k_iu = np.intersect1d(self.R_u[u], self.S_k_r[i])\n",
    "                        N_k_iu = np.intersect1d(self.N_u[u], self.S_k_n[i])\n",
    "                        self.squared_error[epoch] += self.gradient_descent(u, i, N_u, R_k_iu, N_k_iu)\n",
    "                        n+=1\n",
    "            self.squared_error[epoch] = np.sqrt(self.squared_error[epoch]/n)\n",
    "            \n",
    "            #if ([epoch+1] % 10 == 0) and verbose == True:\n",
    "             #   print(f'epoch {epoch+1}: Training RMSE {self.loss[epoch]:.4f}')\n",
    "        end = datatime.now()\n",
    "        print(f'Training times {end-start}')\n",
    "    \n",
    "    def prediction(self, u, i, N_u, R_k_iu, N_k_iu):\n",
    "        p = self.P[u] + np.sum(self.y[N_u], axis = 0)/np.sqrt(len(N_u))\n",
    "        factor = np.dot(p, self.Q[i].T)\n",
    "        neighbor_exp = 0\n",
    "        neighbor_imp = 0\n",
    "        if len(R_k_iu) > 0:\n",
    "            bias_diff = self.R[u,R_k_iu] - (self.mu + self.b_u[u] + self.b_i[R_k_iu])\n",
    "        else:\n",
    "            bias_diff = 0\n",
    "            neighbor_exp = 0\n",
    "        if len(N_k_iu) > 0:\n",
    "            neighbor_imp = np.sum(self.c[i,N_k_iu])/np.sqrt(len(N_k_iu))\n",
    "        else:\n",
    "            neighbor_imp = 0\n",
    "        return self.mu + self.b_u[u] + self.b_i[i] + factor + neighbor_exp + neighbor_imp , bias_diff\n",
    "    \n",
    "    def gradient(self, u, i, N_u, R_k_iu, N_k_iu):\n",
    "        pred, bias_weight = self.prediction(u, i, N_u, R_k_iu, N_k_iu)\n",
    "        error = self.R[u,i] - pred\n",
    "        \n",
    "        dbu = error - self.lambda6 * self.b_u[u]\n",
    "        dbi = error - self.lambda6 * self.b_i[i]\n",
    "        dq = error * (self.P[u] + (np.sum(self.y[N_u], axis = 0)/np.sqrt(len(N_u)))) - self.lambda7 * self.Q[i]\n",
    "        dp = error * self.Q[i] - self.lambda7 * self.P[u]\n",
    "        dy = (error * self.Q[i]/np.sqrt(len(self.N_u))).reshape(1, -1) - self.lambda7 * self.y[N_u]\n",
    "        dw = error * bias_weight/np.sqrt(len(self.R_k_iu)) - self.lambda8 * self.w[i,R_k_iu]\n",
    "        dc = error/np.sqrt(len(N_k_iu)) - self.lambda8 * self.c[i, N_k_iu]\n",
    "        return dbu, dbi, dq, dp, dy, dw, dc, error**2\n",
    "    \n",
    "    def gradient_descent(self, u, i, N_u, R_k_iu, N_k_iu):\n",
    "        dbu, dbi, dq, dp, dy, dw, dc, squared_error = self.gradient(u, i, N_u, R_k_iu, N_k_iu)\n",
    "        self.b_u[u] += self.gamma1 * dbu\n",
    "        self.b_i[i] += self.gamma1 * dbi\n",
    "        self.Q[i] += self.gamma2 * dq\n",
    "        self.P[u] += self.gamma2 * dp\n",
    "        self.y[N_u] += self.gamma2 * dy\n",
    "        if len(R_k_iu) > 0:\n",
    "            self.w[i,R_k_iu] += self.gamma3 * dw\n",
    "        if len(N_k_iu) > 0:\n",
    "            self.c[i,N_k_iu] += self.gamma3 * dc\n",
    "        return squared_error"
   ]
  },
  {
   "cell_type": "code",
   "execution_count": 96,
   "id": "c455efc7",
   "metadata": {},
   "outputs": [],
   "source": [
    "model = integrated_model(train, test, 10, 10, 10, verbose = True)"
   ]
  },
  {
   "cell_type": "code",
   "execution_count": 97,
   "id": "b84b5955",
   "metadata": {},
   "outputs": [
    {
     "name": "stderr",
     "output_type": "stream",
     "text": [
      "C:\\Users\\ahn\\AppData\\Local\\Temp/ipykernel_15912/2981196525.py:92: RuntimeWarning: invalid value encountered in double_scalars\n",
      "  dw = error * bias_weight/np.sqrt(len(self.R_k_iu)) - self.lambda8 * self.w[i,R_k_iu]\n",
      "C:\\Users\\ahn\\AppData\\Local\\Temp/ipykernel_15912/2981196525.py:93: RuntimeWarning: divide by zero encountered in double_scalars\n",
      "  dc = error/np.sqrt(len(N_k_iu)) - self.lambda8 * self.c[i, N_k_iu]\n",
      "C:\\Users\\ahn\\AppData\\Local\\Temp/ipykernel_15912/2981196525.py:92: RuntimeWarning: divide by zero encountered in true_divide\n",
      "  dw = error * bias_weight/np.sqrt(len(self.R_k_iu)) - self.lambda8 * self.w[i,R_k_iu]\n",
      "C:\\Users\\ahn\\AppData\\Local\\Temp/ipykernel_15912/2981196525.py:92: RuntimeWarning: invalid value encountered in subtract\n",
      "  dw = error * bias_weight/np.sqrt(len(self.R_k_iu)) - self.lambda8 * self.w[i,R_k_iu]\n",
      "C:\\Users\\ahn\\AppData\\Local\\Temp/ipykernel_15912/2981196525.py:104: RuntimeWarning: invalid value encountered in add\n",
      "  self.w[i,R_k_iu] += self.gamma3 * dw\n"
     ]
    },
    {
     "ename": "KeyboardInterrupt",
     "evalue": "",
     "output_type": "error",
     "traceback": [
      "\u001b[1;31m---------------------------------------------------------------------------\u001b[0m",
      "\u001b[1;31mKeyboardInterrupt\u001b[0m                         Traceback (most recent call last)",
      "\u001b[1;32m~\\AppData\\Local\\Temp/ipykernel_15912/3552846180.py\u001b[0m in \u001b[0;36m<module>\u001b[1;34m\u001b[0m\n\u001b[1;32m----> 1\u001b[1;33m \u001b[0mmodel\u001b[0m\u001b[1;33m.\u001b[0m\u001b[0mfit\u001b[0m\u001b[1;33m(\u001b[0m\u001b[1;33m)\u001b[0m\u001b[1;33m\u001b[0m\u001b[1;33m\u001b[0m\u001b[0m\n\u001b[0m",
      "\u001b[1;32m~\\AppData\\Local\\Temp/ipykernel_15912/2981196525.py\u001b[0m in \u001b[0;36mfit\u001b[1;34m(self)\u001b[0m\n\u001b[0;32m     54\u001b[0m                 \u001b[1;32mfor\u001b[0m \u001b[0mi\u001b[0m \u001b[1;32min\u001b[0m \u001b[0mrange\u001b[0m\u001b[1;33m(\u001b[0m\u001b[0mself\u001b[0m\u001b[1;33m.\u001b[0m\u001b[0mn_items\u001b[0m\u001b[1;33m)\u001b[0m\u001b[1;33m:\u001b[0m\u001b[1;33m\u001b[0m\u001b[1;33m\u001b[0m\u001b[0m\n\u001b[0;32m     55\u001b[0m                     \u001b[1;32mif\u001b[0m \u001b[0mself\u001b[0m\u001b[1;33m.\u001b[0m\u001b[0mR\u001b[0m\u001b[1;33m[\u001b[0m\u001b[0mu\u001b[0m\u001b[1;33m,\u001b[0m\u001b[0mi\u001b[0m\u001b[1;33m]\u001b[0m \u001b[1;33m>\u001b[0m \u001b[1;36m0\u001b[0m\u001b[1;33m:\u001b[0m\u001b[1;33m\u001b[0m\u001b[1;33m\u001b[0m\u001b[0m\n\u001b[1;32m---> 56\u001b[1;33m                         \u001b[0mR_k_iu\u001b[0m \u001b[1;33m=\u001b[0m \u001b[0mnp\u001b[0m\u001b[1;33m.\u001b[0m\u001b[0mintersect1d\u001b[0m\u001b[1;33m(\u001b[0m\u001b[0mself\u001b[0m\u001b[1;33m.\u001b[0m\u001b[0mR_u\u001b[0m\u001b[1;33m[\u001b[0m\u001b[0mu\u001b[0m\u001b[1;33m]\u001b[0m\u001b[1;33m,\u001b[0m \u001b[0mself\u001b[0m\u001b[1;33m.\u001b[0m\u001b[0mS_k_r\u001b[0m\u001b[1;33m[\u001b[0m\u001b[0mi\u001b[0m\u001b[1;33m]\u001b[0m\u001b[1;33m)\u001b[0m\u001b[1;33m\u001b[0m\u001b[1;33m\u001b[0m\u001b[0m\n\u001b[0m\u001b[0;32m     57\u001b[0m                         \u001b[0mN_k_iu\u001b[0m \u001b[1;33m=\u001b[0m \u001b[0mnp\u001b[0m\u001b[1;33m.\u001b[0m\u001b[0mintersect1d\u001b[0m\u001b[1;33m(\u001b[0m\u001b[0mself\u001b[0m\u001b[1;33m.\u001b[0m\u001b[0mN_u\u001b[0m\u001b[1;33m[\u001b[0m\u001b[0mu\u001b[0m\u001b[1;33m]\u001b[0m\u001b[1;33m,\u001b[0m \u001b[0mself\u001b[0m\u001b[1;33m.\u001b[0m\u001b[0mS_k_n\u001b[0m\u001b[1;33m[\u001b[0m\u001b[0mi\u001b[0m\u001b[1;33m]\u001b[0m\u001b[1;33m)\u001b[0m\u001b[1;33m\u001b[0m\u001b[1;33m\u001b[0m\u001b[0m\n\u001b[0;32m     58\u001b[0m                         \u001b[0mself\u001b[0m\u001b[1;33m.\u001b[0m\u001b[0msquared_error\u001b[0m\u001b[1;33m[\u001b[0m\u001b[0mepoch\u001b[0m\u001b[1;33m]\u001b[0m \u001b[1;33m+=\u001b[0m \u001b[0mself\u001b[0m\u001b[1;33m.\u001b[0m\u001b[0mgradient_descent\u001b[0m\u001b[1;33m(\u001b[0m\u001b[0mu\u001b[0m\u001b[1;33m,\u001b[0m \u001b[0mi\u001b[0m\u001b[1;33m,\u001b[0m \u001b[0mN_u\u001b[0m\u001b[1;33m,\u001b[0m \u001b[0mR_k_iu\u001b[0m\u001b[1;33m,\u001b[0m \u001b[0mN_k_iu\u001b[0m\u001b[1;33m)\u001b[0m\u001b[1;33m\u001b[0m\u001b[1;33m\u001b[0m\u001b[0m\n",
      "\u001b[1;32m<__array_function__ internals>\u001b[0m in \u001b[0;36mintersect1d\u001b[1;34m(*args, **kwargs)\u001b[0m\n",
      "\u001b[1;32m~\\anaconda3\\lib\\site-packages\\numpy\\lib\\arraysetops.py\u001b[0m in \u001b[0;36mintersect1d\u001b[1;34m(ar1, ar2, assume_unique, return_indices)\u001b[0m\n\u001b[0;32m    409\u001b[0m \u001b[1;33m\u001b[0m\u001b[0m\n\u001b[0;32m    410\u001b[0m     \"\"\"\n\u001b[1;32m--> 411\u001b[1;33m     \u001b[0mar1\u001b[0m \u001b[1;33m=\u001b[0m \u001b[0mnp\u001b[0m\u001b[1;33m.\u001b[0m\u001b[0masanyarray\u001b[0m\u001b[1;33m(\u001b[0m\u001b[0mar1\u001b[0m\u001b[1;33m)\u001b[0m\u001b[1;33m\u001b[0m\u001b[1;33m\u001b[0m\u001b[0m\n\u001b[0m\u001b[0;32m    412\u001b[0m     \u001b[0mar2\u001b[0m \u001b[1;33m=\u001b[0m \u001b[0mnp\u001b[0m\u001b[1;33m.\u001b[0m\u001b[0masanyarray\u001b[0m\u001b[1;33m(\u001b[0m\u001b[0mar2\u001b[0m\u001b[1;33m)\u001b[0m\u001b[1;33m\u001b[0m\u001b[1;33m\u001b[0m\u001b[0m\n\u001b[0;32m    413\u001b[0m \u001b[1;33m\u001b[0m\u001b[0m\n",
      "\u001b[1;32m~\\anaconda3\\lib\\site-packages\\numpy\\core\\_asarray.py\u001b[0m in \u001b[0;36masanyarray\u001b[1;34m(a, dtype, order, like)\u001b[0m\n\u001b[0;32m    169\u001b[0m         \u001b[1;32mreturn\u001b[0m \u001b[0m_asanyarray_with_like\u001b[0m\u001b[1;33m(\u001b[0m\u001b[0ma\u001b[0m\u001b[1;33m,\u001b[0m \u001b[0mdtype\u001b[0m\u001b[1;33m=\u001b[0m\u001b[0mdtype\u001b[0m\u001b[1;33m,\u001b[0m \u001b[0morder\u001b[0m\u001b[1;33m=\u001b[0m\u001b[0morder\u001b[0m\u001b[1;33m,\u001b[0m \u001b[0mlike\u001b[0m\u001b[1;33m=\u001b[0m\u001b[0mlike\u001b[0m\u001b[1;33m)\u001b[0m\u001b[1;33m\u001b[0m\u001b[1;33m\u001b[0m\u001b[0m\n\u001b[0;32m    170\u001b[0m \u001b[1;33m\u001b[0m\u001b[0m\n\u001b[1;32m--> 171\u001b[1;33m     \u001b[1;32mreturn\u001b[0m \u001b[0marray\u001b[0m\u001b[1;33m(\u001b[0m\u001b[0ma\u001b[0m\u001b[1;33m,\u001b[0m \u001b[0mdtype\u001b[0m\u001b[1;33m,\u001b[0m \u001b[0mcopy\u001b[0m\u001b[1;33m=\u001b[0m\u001b[1;32mFalse\u001b[0m\u001b[1;33m,\u001b[0m \u001b[0morder\u001b[0m\u001b[1;33m=\u001b[0m\u001b[0morder\u001b[0m\u001b[1;33m,\u001b[0m \u001b[0msubok\u001b[0m\u001b[1;33m=\u001b[0m\u001b[1;32mTrue\u001b[0m\u001b[1;33m)\u001b[0m\u001b[1;33m\u001b[0m\u001b[1;33m\u001b[0m\u001b[0m\n\u001b[0m\u001b[0;32m    172\u001b[0m \u001b[1;33m\u001b[0m\u001b[0m\n\u001b[0;32m    173\u001b[0m \u001b[1;33m\u001b[0m\u001b[0m\n",
      "\u001b[1;31mKeyboardInterrupt\u001b[0m: "
     ]
    }
   ],
   "source": [
    "model.fit()"
   ]
  },
  {
   "cell_type": "code",
   "execution_count": 82,
   "id": "5885d7dd",
   "metadata": {},
   "outputs": [
    {
     "ename": "AttributeError",
     "evalue": "type object 'integrated_model' has no attribute 'R_u'",
     "output_type": "error",
     "traceback": [
      "\u001b[1;31m---------------------------------------------------------------------------\u001b[0m",
      "\u001b[1;31mAttributeError\u001b[0m                            Traceback (most recent call last)",
      "\u001b[1;32m~\\AppData\\Local\\Temp/ipykernel_15912/2536461099.py\u001b[0m in \u001b[0;36m<module>\u001b[1;34m\u001b[0m\n\u001b[1;32m----> 1\u001b[1;33m \u001b[0mintegrated_model\u001b[0m\u001b[1;33m.\u001b[0m\u001b[0mR_u\u001b[0m\u001b[1;33m\u001b[0m\u001b[1;33m\u001b[0m\u001b[0m\n\u001b[0m",
      "\u001b[1;31mAttributeError\u001b[0m: type object 'integrated_model' has no attribute 'R_u'"
     ]
    }
   ],
   "source": [
    "integrated_model.R_u"
   ]
  },
  {
   "cell_type": "code",
   "execution_count": 30,
   "id": "f68e9a74",
   "metadata": {},
   "outputs": [],
   "source": [
    "imp = (train > 0).astype(float)\n",
    "for data in [train,imp]:\n",
    "    rho = np.corrcoef(data.T)\n",
    "    rho = np.nan_to_num(rho, nan = -1)\n",
    "    n_ij = "
   ]
  },
  {
   "cell_type": "code",
   "execution_count": 36,
   "id": "9835be7f",
   "metadata": {},
   "outputs": [
    {
     "name": "stdout",
     "output_type": "stream",
     "text": [
      "Help on function nan_to_num in module numpy:\n",
      "\n",
      "nan_to_num(x, copy=True, nan=0.0, posinf=None, neginf=None)\n",
      "    Replace NaN with zero and infinity with large finite numbers (default\n",
      "    behaviour) or with the numbers defined by the user using the `nan`, \n",
      "    `posinf` and/or `neginf` keywords.\n",
      "    \n",
      "    If `x` is inexact, NaN is replaced by zero or by the user defined value in\n",
      "    `nan` keyword, infinity is replaced by the largest finite floating point \n",
      "    values representable by ``x.dtype`` or by the user defined value in \n",
      "    `posinf` keyword and -infinity is replaced by the most negative finite \n",
      "    floating point values representable by ``x.dtype`` or by the user defined \n",
      "    value in `neginf` keyword.\n",
      "    \n",
      "    For complex dtypes, the above is applied to each of the real and\n",
      "    imaginary components of `x` separately.\n",
      "    \n",
      "    If `x` is not inexact, then no replacements are made.\n",
      "    \n",
      "    Parameters\n",
      "    ----------\n",
      "    x : scalar or array_like\n",
      "        Input data.\n",
      "    copy : bool, optional\n",
      "        Whether to create a copy of `x` (True) or to replace values\n",
      "        in-place (False). The in-place operation only occurs if\n",
      "        casting to an array does not require a copy.\n",
      "        Default is True.\n",
      "        \n",
      "        .. versionadded:: 1.13\n",
      "    nan : int, float, optional\n",
      "        Value to be used to fill NaN values. If no value is passed \n",
      "        then NaN values will be replaced with 0.0.\n",
      "        \n",
      "        .. versionadded:: 1.17\n",
      "    posinf : int, float, optional\n",
      "        Value to be used to fill positive infinity values. If no value is \n",
      "        passed then positive infinity values will be replaced with a very\n",
      "        large number.\n",
      "        \n",
      "        .. versionadded:: 1.17\n",
      "    neginf : int, float, optional\n",
      "        Value to be used to fill negative infinity values. If no value is \n",
      "        passed then negative infinity values will be replaced with a very\n",
      "        small (or negative) number.\n",
      "        \n",
      "        .. versionadded:: 1.17\n",
      "    \n",
      "        \n",
      "    \n",
      "    Returns\n",
      "    -------\n",
      "    out : ndarray\n",
      "        `x`, with the non-finite values replaced. If `copy` is False, this may\n",
      "        be `x` itself.\n",
      "    \n",
      "    See Also\n",
      "    --------\n",
      "    isinf : Shows which elements are positive or negative infinity.\n",
      "    isneginf : Shows which elements are negative infinity.\n",
      "    isposinf : Shows which elements are positive infinity.\n",
      "    isnan : Shows which elements are Not a Number (NaN).\n",
      "    isfinite : Shows which elements are finite (not NaN, not infinity)\n",
      "    \n",
      "    Notes\n",
      "    -----\n",
      "    NumPy uses the IEEE Standard for Binary Floating-Point for Arithmetic\n",
      "    (IEEE 754). This means that Not a Number is not equivalent to infinity.\n",
      "    \n",
      "    Examples\n",
      "    --------\n",
      "    >>> np.nan_to_num(np.inf)\n",
      "    1.7976931348623157e+308\n",
      "    >>> np.nan_to_num(-np.inf)\n",
      "    -1.7976931348623157e+308\n",
      "    >>> np.nan_to_num(np.nan)\n",
      "    0.0\n",
      "    >>> x = np.array([np.inf, -np.inf, np.nan, -128, 128])\n",
      "    >>> np.nan_to_num(x)\n",
      "    array([ 1.79769313e+308, -1.79769313e+308,  0.00000000e+000, # may vary\n",
      "           -1.28000000e+002,  1.28000000e+002])\n",
      "    >>> np.nan_to_num(x, nan=-9999, posinf=33333333, neginf=33333333)\n",
      "    array([ 3.3333333e+07,  3.3333333e+07, -9.9990000e+03, \n",
      "           -1.2800000e+02,  1.2800000e+02])\n",
      "    >>> y = np.array([complex(np.inf, np.nan), np.nan, complex(np.nan, np.inf)])\n",
      "    array([  1.79769313e+308,  -1.79769313e+308,   0.00000000e+000, # may vary\n",
      "         -1.28000000e+002,   1.28000000e+002])\n",
      "    >>> np.nan_to_num(y)\n",
      "    array([  1.79769313e+308 +0.00000000e+000j, # may vary\n",
      "             0.00000000e+000 +0.00000000e+000j,\n",
      "             0.00000000e+000 +1.79769313e+308j])\n",
      "    >>> np.nan_to_num(y, nan=111111, posinf=222222)\n",
      "    array([222222.+111111.j, 111111.     +0.j, 111111.+222222.j])\n",
      "\n"
     ]
    }
   ],
   "source": [
    "help(np.nan_to_num)"
   ]
  },
  {
   "cell_type": "code",
   "execution_count": null,
   "id": "bbafbdef",
   "metadata": {},
   "outputs": [],
   "source": []
  }
 ],
 "metadata": {
  "kernelspec": {
   "display_name": "Python 3 (ipykernel)",
   "language": "python",
   "name": "python3"
  },
  "language_info": {
   "codemirror_mode": {
    "name": "ipython",
    "version": 3
   },
   "file_extension": ".py",
   "mimetype": "text/x-python",
   "name": "python",
   "nbconvert_exporter": "python",
   "pygments_lexer": "ipython3",
   "version": "3.9.7"
  }
 },
 "nbformat": 4,
 "nbformat_minor": 5
}
