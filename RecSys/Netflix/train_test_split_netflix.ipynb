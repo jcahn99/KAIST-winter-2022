{
 "cells": [
  {
   "cell_type": "code",
   "execution_count": 1,
   "id": "7b16ee4b",
   "metadata": {},
   "outputs": [],
   "source": [
    "import pandas as pd"
   ]
  },
  {
   "cell_type": "code",
   "execution_count": 5,
   "id": "264bf2f3",
   "metadata": {},
   "outputs": [],
   "source": [
    "df = pd.read_csv('./Netflix_Dataset_Rating/Netflix_Dataset_Rating.csv')"
   ]
  },
  {
   "cell_type": "code",
   "execution_count": 9,
   "id": "2fab1088",
   "metadata": {},
   "outputs": [
    {
     "data": {
      "text/plain": [
       "<bound method Series.unique of 0            712664\n",
       "1           1331154\n",
       "2           2632461\n",
       "3             44937\n",
       "4            656399\n",
       "             ...   \n",
       "17337453     520675\n",
       "17337454    1055714\n",
       "17337455    2643029\n",
       "17337456    1559566\n",
       "17337457     293198\n",
       "Name: User_ID, Length: 17337458, dtype: int64>"
      ]
     },
     "execution_count": 9,
     "metadata": {},
     "output_type": "execute_result"
    }
   ],
   "source": [
    "df['User_ID'].unique"
   ]
  },
  {
   "cell_type": "code",
   "execution_count": 10,
   "id": "5f35d62d",
   "metadata": {},
   "outputs": [],
   "source": [
    "from sklearn.model_selection import train_test_split"
   ]
  },
  {
   "cell_type": "code",
   "execution_count": 12,
   "id": "ceedaaf8",
   "metadata": {},
   "outputs": [],
   "source": [
    "trainset, testset = train_test_split(df, stratify = df['User_ID'], test_size = 0.3, random_state = 78)"
   ]
  },
  {
   "cell_type": "code",
   "execution_count": 13,
   "id": "e2f48b0c",
   "metadata": {},
   "outputs": [
    {
     "data": {
      "text/plain": [
       "(12136220, 3)"
      ]
     },
     "execution_count": 13,
     "metadata": {},
     "output_type": "execute_result"
    }
   ],
   "source": [
    "trainset.shape"
   ]
  },
  {
   "cell_type": "code",
   "execution_count": 17,
   "id": "59730b18",
   "metadata": {},
   "outputs": [
    {
     "data": {
      "text/html": [
       "<div>\n",
       "<style scoped>\n",
       "    .dataframe tbody tr th:only-of-type {\n",
       "        vertical-align: middle;\n",
       "    }\n",
       "\n",
       "    .dataframe tbody tr th {\n",
       "        vertical-align: top;\n",
       "    }\n",
       "\n",
       "    .dataframe thead th {\n",
       "        text-align: right;\n",
       "    }\n",
       "</style>\n",
       "<table border=\"1\" class=\"dataframe\">\n",
       "  <thead>\n",
       "    <tr style=\"text-align: right;\">\n",
       "      <th></th>\n",
       "      <th>User_ID</th>\n",
       "      <th>Rating</th>\n",
       "      <th>Movie_ID</th>\n",
       "    </tr>\n",
       "  </thead>\n",
       "  <tbody>\n",
       "    <tr>\n",
       "      <th>13560441</th>\n",
       "      <td>1970257</td>\n",
       "      <td>4</td>\n",
       "      <td>3605</td>\n",
       "    </tr>\n",
       "    <tr>\n",
       "      <th>16907346</th>\n",
       "      <td>183237</td>\n",
       "      <td>2</td>\n",
       "      <td>4389</td>\n",
       "    </tr>\n",
       "    <tr>\n",
       "      <th>12278633</th>\n",
       "      <td>876661</td>\n",
       "      <td>3</td>\n",
       "      <td>3282</td>\n",
       "    </tr>\n",
       "    <tr>\n",
       "      <th>9105553</th>\n",
       "      <td>1752442</td>\n",
       "      <td>1</td>\n",
       "      <td>2422</td>\n",
       "    </tr>\n",
       "    <tr>\n",
       "      <th>13844694</th>\n",
       "      <td>1474958</td>\n",
       "      <td>5</td>\n",
       "      <td>3638</td>\n",
       "    </tr>\n",
       "    <tr>\n",
       "      <th>...</th>\n",
       "      <td>...</td>\n",
       "      <td>...</td>\n",
       "      <td>...</td>\n",
       "    </tr>\n",
       "    <tr>\n",
       "      <th>5821982</th>\n",
       "      <td>1607972</td>\n",
       "      <td>3</td>\n",
       "      <td>1615</td>\n",
       "    </tr>\n",
       "    <tr>\n",
       "      <th>16825724</th>\n",
       "      <td>2434573</td>\n",
       "      <td>5</td>\n",
       "      <td>4369</td>\n",
       "    </tr>\n",
       "    <tr>\n",
       "      <th>8665600</th>\n",
       "      <td>2241940</td>\n",
       "      <td>5</td>\n",
       "      <td>2342</td>\n",
       "    </tr>\n",
       "    <tr>\n",
       "      <th>12443960</th>\n",
       "      <td>39533</td>\n",
       "      <td>4</td>\n",
       "      <td>3320</td>\n",
       "    </tr>\n",
       "    <tr>\n",
       "      <th>14495541</th>\n",
       "      <td>506911</td>\n",
       "      <td>5</td>\n",
       "      <td>3825</td>\n",
       "    </tr>\n",
       "  </tbody>\n",
       "</table>\n",
       "<p>12136220 rows × 3 columns</p>\n",
       "</div>"
      ],
      "text/plain": [
       "          User_ID  Rating  Movie_ID\n",
       "13560441  1970257       4      3605\n",
       "16907346   183237       2      4389\n",
       "12278633   876661       3      3282\n",
       "9105553   1752442       1      2422\n",
       "13844694  1474958       5      3638\n",
       "...           ...     ...       ...\n",
       "5821982   1607972       3      1615\n",
       "16825724  2434573       5      4369\n",
       "8665600   2241940       5      2342\n",
       "12443960    39533       4      3320\n",
       "14495541   506911       5      3825\n",
       "\n",
       "[12136220 rows x 3 columns]"
      ]
     },
     "execution_count": 17,
     "metadata": {},
     "output_type": "execute_result"
    }
   ],
   "source": [
    "trainset"
   ]
  },
  {
   "cell_type": "code",
   "execution_count": 14,
   "id": "2fe64950",
   "metadata": {},
   "outputs": [
    {
     "data": {
      "text/plain": [
       "(5201238, 3)"
      ]
     },
     "execution_count": 14,
     "metadata": {},
     "output_type": "execute_result"
    }
   ],
   "source": [
    "testset.shape"
   ]
  },
  {
   "cell_type": "code",
   "execution_count": 15,
   "id": "6118693e",
   "metadata": {},
   "outputs": [],
   "source": [
    "trainset.to_csv('./netflix_train.csv', index=False)"
   ]
  },
  {
   "cell_type": "code",
   "execution_count": 16,
   "id": "986c9c8b",
   "metadata": {},
   "outputs": [],
   "source": [
    "testset.to_csv('./netflix_test.csv')"
   ]
  },
  {
   "cell_type": "code",
   "execution_count": null,
   "id": "28cf40dd",
   "metadata": {},
   "outputs": [],
   "source": []
  }
 ],
 "metadata": {
  "kernelspec": {
   "display_name": "Python 3 (ipykernel)",
   "language": "python",
   "name": "python3"
  },
  "language_info": {
   "codemirror_mode": {
    "name": "ipython",
    "version": 3
   },
   "file_extension": ".py",
   "mimetype": "text/x-python",
   "name": "python",
   "nbconvert_exporter": "python",
   "pygments_lexer": "ipython3",
   "version": "3.9.7"
  }
 },
 "nbformat": 4,
 "nbformat_minor": 5
}
