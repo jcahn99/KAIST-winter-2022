{
 "cells": [
  {
   "cell_type": "code",
   "execution_count": 1,
   "id": "eb152655",
   "metadata": {},
   "outputs": [],
   "source": [
    "import pandas as pd\n",
    "import numpy as np\n",
    "import sys\n",
    "from timeit import default_timer as timer"
   ]
  },
  {
   "cell_type": "code",
   "execution_count": 2,
   "id": "7ab0653a",
   "metadata": {},
   "outputs": [],
   "source": [
    "from surprise import Reader, Dataset, SVD, SVDpp\n",
    "from surprise import accuracy\n",
    "from surprise.model_selection import train_test_split"
   ]
  },
  {
   "cell_type": "code",
   "execution_count": 10,
   "id": "a44caf2a",
   "metadata": {},
   "outputs": [],
   "source": [
    "df = pd.read_csv('ㅜ'"
   ]
  },
  {
   "cell_type": "code",
   "execution_count": 13,
   "id": "d2041dca",
   "metadata": {},
   "outputs": [],
   "source": [
    "model = SVD(n_epochs=10, verbose=True)\n",
    "data = Dataset.load_from_df(df[['User_ID','Movie_ID','Rating']],Reader())\n",
    "trainset, testset = train_test_split(data, test_size=0.3, random_state=10)\n",
    "trainset = data.build_full_trainset()"
   ]
  },
  {
   "cell_type": "code",
   "execution_count": 17,
   "id": "16127f45",
   "metadata": {},
   "outputs": [
    {
     "name": "stdout",
     "output_type": "stream",
     "text": [
      "Processing epoch 0\n",
      "Processing epoch 1\n",
      "Processing epoch 2\n",
      "Processing epoch 3\n",
      "Processing epoch 4\n",
      "Processing epoch 5\n",
      "Processing epoch 6\n",
      "Processing epoch 7\n",
      "Processing epoch 8\n",
      "Processing epoch 9\n"
     ]
    },
    {
     "data": {
      "text/plain": [
       "<surprise.prediction_algorithms.matrix_factorization.SVD at 0x29c27adf310>"
      ]
     },
     "execution_count": 17,
     "metadata": {},
     "output_type": "execute_result"
    }
   ],
   "source": [
    "model.fit(trainset)"
   ]
  },
  {
   "cell_type": "code",
   "execution_count": 18,
   "id": "b9dcebe8",
   "metadata": {},
   "outputs": [
    {
     "name": "stdout",
     "output_type": "stream",
     "text": [
      "RMSE: 0.8294\n"
     ]
    },
    {
     "data": {
      "text/plain": [
       "0.8294318833246187"
      ]
     },
     "execution_count": 18,
     "metadata": {},
     "output_type": "execute_result"
    }
   ],
   "source": [
    "predictions = model.test(testset)\n",
    "accuracy.rmse(predictions, verbose=True)"
   ]
  },
  {
   "cell_type": "code",
   "execution_count": 19,
   "id": "e0486caa",
   "metadata": {},
   "outputs": [
    {
     "data": {
      "text/plain": [
       "\"\\ndef Recommender(given_user_id, n_movies):\\n    given_user = df_title.copy()\\n    given_user = given_user.reset_index()\\n    given_user = given_user[~given_user['Movie_ID'].isin(drop_movie_list)]\\n    \\n    given_user['Estimated_Rating'] = given_user['Movie_ID'].apply ...\\n    (lambda x: model.predict(given_user_id, x).est)\\n    \\n    given_user = given_user.drop('Movie_ID', axis = 1)\\n    given_user = given_user.sort_values('Estimated_Rating', ascending = False)\\n    given_user.drop(['index'], axis = 1, inplace = True)\\n    given_user.reset_index(inplace = True, drop = True)\\n    return given_user.head(n_movies)\\n\""
      ]
     },
     "execution_count": 19,
     "metadata": {},
     "output_type": "execute_result"
    }
   ],
   "source": [
    "df_title = pd.read_csv('Netflix_Dataset_Movie.csv')\n",
    "f = ['count','mean']\n",
    "df_movie_summary = df.groupby('Movie_ID')['Rating'].agg(f)\n",
    "movie_benchmark = round(df_movie_summary['count'].quantile(0.7),0)\n",
    "drop_movie_list = df_movie_summary[df_movie_summary['count'] < movie_benchmark].index"
   ]
  },
  {
   "cell_type": "code",
   "execution_count": 21,
   "id": "6a0b3f2c",
   "metadata": {},
   "outputs": [],
   "source": [
    "def Recommender(given_user_id, n_movies):\n",
    "    given_user = df_title.copy()\n",
    "    given_user = given_user.reset_index()\n",
    "    given_user = given_user[~given_user['Movie_ID'].isin(drop_movie_list)]\n",
    "    \n",
    "    given_user['Estimated_Rating'] = given_user['Movie_ID'].apply(lambda x: model.predict(given_user_id, x).est)\n",
    "    \n",
    "    given_user = given_user.drop('Movie_ID', axis = 1)\n",
    "    given_user = given_user.sort_values('Estimated_Rating', ascending = False)\n",
    "    given_user.drop(['index'], axis = 1, inplace = True)\n",
    "    given_user.reset_index(inplace = True, drop = True)\n",
    "    return given_user.head(n_movies)"
   ]
  },
  {
   "cell_type": "code",
   "execution_count": 22,
   "id": "50e49b3e",
   "metadata": {},
   "outputs": [
    {
     "data": {
      "text/html": [
       "<div>\n",
       "<style scoped>\n",
       "    .dataframe tbody tr th:only-of-type {\n",
       "        vertical-align: middle;\n",
       "    }\n",
       "\n",
       "    .dataframe tbody tr th {\n",
       "        vertical-align: top;\n",
       "    }\n",
       "\n",
       "    .dataframe thead th {\n",
       "        text-align: right;\n",
       "    }\n",
       "</style>\n",
       "<table border=\"1\" class=\"dataframe\">\n",
       "  <thead>\n",
       "    <tr style=\"text-align: right;\">\n",
       "      <th></th>\n",
       "      <th>Year</th>\n",
       "      <th>Name</th>\n",
       "      <th>Estimated_Rating</th>\n",
       "    </tr>\n",
       "  </thead>\n",
       "  <tbody>\n",
       "    <tr>\n",
       "      <th>0</th>\n",
       "      <td>1954</td>\n",
       "      <td>Seven Samurai</td>\n",
       "      <td>5.000000</td>\n",
       "    </tr>\n",
       "    <tr>\n",
       "      <th>1</th>\n",
       "      <td>1990</td>\n",
       "      <td>The Simpsons: Treehouse of Horror</td>\n",
       "      <td>4.910361</td>\n",
       "    </tr>\n",
       "    <tr>\n",
       "      <th>2</th>\n",
       "      <td>1991</td>\n",
       "      <td>The Simpsons: Season 3</td>\n",
       "      <td>4.816233</td>\n",
       "    </tr>\n",
       "    <tr>\n",
       "      <th>3</th>\n",
       "      <td>1992</td>\n",
       "      <td>Reservoir Dogs</td>\n",
       "      <td>4.801512</td>\n",
       "    </tr>\n",
       "    <tr>\n",
       "      <th>4</th>\n",
       "      <td>1949</td>\n",
       "      <td>The Third Man</td>\n",
       "      <td>4.694483</td>\n",
       "    </tr>\n",
       "  </tbody>\n",
       "</table>\n",
       "</div>"
      ],
      "text/plain": [
       "   Year                               Name  Estimated_Rating\n",
       "0  1954                      Seven Samurai          5.000000\n",
       "1  1990  The Simpsons: Treehouse of Horror          4.910361\n",
       "2  1991             The Simpsons: Season 3          4.816233\n",
       "3  1992                     Reservoir Dogs          4.801512\n",
       "4  1949                      The Third Man          4.694483"
      ]
     },
     "execution_count": 22,
     "metadata": {},
     "output_type": "execute_result"
    }
   ],
   "source": [
    "Recommender(712664,5)"
   ]
  },
  {
   "cell_type": "code",
   "execution_count": 23,
   "id": "e62b5746",
   "metadata": {},
   "outputs": [
    {
     "data": {
      "text/html": [
       "<div>\n",
       "<style scoped>\n",
       "    .dataframe tbody tr th:only-of-type {\n",
       "        vertical-align: middle;\n",
       "    }\n",
       "\n",
       "    .dataframe tbody tr th {\n",
       "        vertical-align: top;\n",
       "    }\n",
       "\n",
       "    .dataframe thead th {\n",
       "        text-align: right;\n",
       "    }\n",
       "</style>\n",
       "<table border=\"1\" class=\"dataframe\">\n",
       "  <thead>\n",
       "    <tr style=\"text-align: right;\">\n",
       "      <th></th>\n",
       "      <th>Year</th>\n",
       "      <th>Name</th>\n",
       "      <th>Estimated_Rating</th>\n",
       "    </tr>\n",
       "  </thead>\n",
       "  <tbody>\n",
       "    <tr>\n",
       "      <th>0</th>\n",
       "      <td>1995</td>\n",
       "      <td>Pride and Prejudice</td>\n",
       "      <td>4.632754</td>\n",
       "    </tr>\n",
       "    <tr>\n",
       "      <th>1</th>\n",
       "      <td>1954</td>\n",
       "      <td>Seven Samurai</td>\n",
       "      <td>4.612518</td>\n",
       "    </tr>\n",
       "    <tr>\n",
       "      <th>2</th>\n",
       "      <td>1990</td>\n",
       "      <td>The Simpsons: Treehouse of Horror</td>\n",
       "      <td>4.580988</td>\n",
       "    </tr>\n",
       "    <tr>\n",
       "      <th>3</th>\n",
       "      <td>1992</td>\n",
       "      <td>Reservoir Dogs</td>\n",
       "      <td>4.561178</td>\n",
       "    </tr>\n",
       "    <tr>\n",
       "      <th>4</th>\n",
       "      <td>1974</td>\n",
       "      <td>The Godfather</td>\n",
       "      <td>4.524487</td>\n",
       "    </tr>\n",
       "    <tr>\n",
       "      <th>5</th>\n",
       "      <td>2002</td>\n",
       "      <td>The Pianist</td>\n",
       "      <td>4.519947</td>\n",
       "    </tr>\n",
       "    <tr>\n",
       "      <th>6</th>\n",
       "      <td>1959</td>\n",
       "      <td>North by Northwest</td>\n",
       "      <td>4.469716</td>\n",
       "    </tr>\n",
       "    <tr>\n",
       "      <th>7</th>\n",
       "      <td>1999</td>\n",
       "      <td>American Beauty</td>\n",
       "      <td>4.463408</td>\n",
       "    </tr>\n",
       "    <tr>\n",
       "      <th>8</th>\n",
       "      <td>1989</td>\n",
       "      <td>The Simpsons: Season 1</td>\n",
       "      <td>4.460580</td>\n",
       "    </tr>\n",
       "    <tr>\n",
       "      <th>9</th>\n",
       "      <td>1991</td>\n",
       "      <td>The Simpsons: Season 3</td>\n",
       "      <td>4.458849</td>\n",
       "    </tr>\n",
       "  </tbody>\n",
       "</table>\n",
       "</div>"
      ],
      "text/plain": [
       "   Year                               Name  Estimated_Rating\n",
       "0  1995                Pride and Prejudice          4.632754\n",
       "1  1954                      Seven Samurai          4.612518\n",
       "2  1990  The Simpsons: Treehouse of Horror          4.580988\n",
       "3  1992                     Reservoir Dogs          4.561178\n",
       "4  1974                      The Godfather          4.524487\n",
       "5  2002                        The Pianist          4.519947\n",
       "6  1959                 North by Northwest          4.469716\n",
       "7  1999                    American Beauty          4.463408\n",
       "8  1989             The Simpsons: Season 1          4.460580\n",
       "9  1991             The Simpsons: Season 3          4.458849"
      ]
     },
     "execution_count": 23,
     "metadata": {},
     "output_type": "execute_result"
    }
   ],
   "source": [
    "Recommender(2643029,10)"
   ]
  },
  {
   "cell_type": "code",
   "execution_count": null,
   "id": "3b564ab8",
   "metadata": {},
   "outputs": [],
   "source": []
  }
 ],
 "metadata": {
  "kernelspec": {
   "display_name": "Python 3 (ipykernel)",
   "language": "python",
   "name": "python3"
  },
  "language_info": {
   "codemirror_mode": {
    "name": "ipython",
    "version": 3
   },
   "file_extension": ".py",
   "mimetype": "text/x-python",
   "name": "python",
   "nbconvert_exporter": "python",
   "pygments_lexer": "ipython3",
   "version": "3.9.7"
  }
 },
 "nbformat": 4,
 "nbformat_minor": 5
}
