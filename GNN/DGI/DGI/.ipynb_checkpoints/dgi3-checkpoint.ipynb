{
 "cells": [
  {
   "cell_type": "code",
   "execution_count": 72,
   "id": "b89062d7",
   "metadata": {},
   "outputs": [],
   "source": [
    "import torch\n",
    "import torch.nn as nn\n",
    "from torch_geometric.data import Data\n",
    "from torch_geometric.nn import GCNConv\n",
    "from torch_geometric.datasets import Planetoid, Reddit\n",
    "from torch import Tensor"
   ]
  },
  {
   "cell_type": "code",
   "execution_count": 73,
   "id": "4a4217ff",
   "metadata": {},
   "outputs": [
    {
     "data": {
      "text/plain": [
       "'\\nclass Discriminator(nn.Module):\\n    def __init__(self, h, summary, dim):\\n        super(Discriminator, self).__init__()\\n        self.h = h\\n        self.summary = summary\\n        self.weight = nn.Parameter(torch.Tensor(dim, dim))\\n        nn.init.xavier_uniform_(self.weight)\\n        \\n    def forward(self):\\n        value = torch.matmul(h, torch.matmul(self.weight, summary))\\n        return torch.sigmoid(value)\\n'"
      ]
     },
     "execution_count": 73,
     "metadata": {},
     "output_type": "execute_result"
    }
   ],
   "source": [
    "'''\n",
    "class Discriminator(nn.Module):\n",
    "    def __init__(self, h, summary, dim):\n",
    "        super(Discriminator, self).__init__()\n",
    "        self.h = h\n",
    "        self.summary = summary\n",
    "        self.weight = nn.Parameter(torch.Tensor(dim, dim))\n",
    "        nn.init.xavier_uniform_(self.weight)\n",
    "        \n",
    "    def forward(self):\n",
    "        value = torch.matmul(h, torch.matmul(self.weight, summary))\n",
    "        return torch.sigmoid(value)\n",
    "'''"
   ]
  },
  {
   "cell_type": "code",
   "execution_count": 74,
   "id": "fc40225d",
   "metadata": {},
   "outputs": [
    {
     "data": {
      "text/plain": [
       "'\\nclass GCN(nn.Module):\\n    def __init__(self, ft_in, n_fts):\\n        super(GCN, self).__init__()\\n        self.conv = GCNConv(ft_in, n_fts)\\n        self.act = nn.PReLU(n_fts)\\n        \\n    def forward(self, x, edge_index):\\n        x = self.conv(x, edge_index)\\n        x = self.act(x)\\n        return x\\n'"
      ]
     },
     "execution_count": 74,
     "metadata": {},
     "output_type": "execute_result"
    }
   ],
   "source": [
    "'''\n",
    "class GCN(nn.Module):\n",
    "    def __init__(self, ft_in, n_fts):\n",
    "        super(GCN, self).__init__()\n",
    "        self.conv = GCNConv(ft_in, n_fts)\n",
    "        self.act = nn.PReLU(n_fts)\n",
    "        \n",
    "    def forward(self, x, edge_index):\n",
    "        x = self.conv(x, edge_index)\n",
    "        x = self.act(x)\n",
    "        return x\n",
    "'''"
   ]
  },
  {
   "cell_type": "code",
   "execution_count": 85,
   "id": "ec595061",
   "metadata": {},
   "outputs": [],
   "source": [
    "class GCNlayer(nn.Module):\n",
    "    def __init__(self, in_ftr, out_ftr):\n",
    "        super(GCNlayer, self).__init__()\n",
    "        self.conv = GCNConv(in_ftr, out_ftr)\n",
    "        self.activation = nn.PReLU(out_ftr)\n",
    "        \n",
    "    def forward(self, x, edge_index):\n",
    "        x = self.conv(x, edge_index)\n",
    "        x = self.activation(x)\n",
    "        return x"
   ]
  },
  {
   "cell_type": "code",
   "execution_count": 86,
   "id": "c142c148",
   "metadata": {},
   "outputs": [],
   "source": [
    "class DGI(nn.Module):\n",
    "    def __init__(self, data, dim):\n",
    "        super(DGI, self).__init__()\n",
    "        self.dim = dim\n",
    "        self.data = Data(data.x, data.edge_index)\n",
    "        self.loss = nn.BCEWithLogitsLoss()\n",
    "        self.weight = nn.Parameter(torch.Tensor(self.dim, self.dim))\n",
    "        nn.init.xavier_uniform_(self.weight)\n",
    "        \n",
    "    def discriminator(self, h, summary):\n",
    "        value = torch.matmul(h, torch.matmul(self.weight, summary))\n",
    "        return torch.sigmoid(value)\n",
    "    \n",
    "    def corruption(self, data):\n",
    "        return Data(self.data.x[torch.randperm(self.data.x.size(0))], self.data.edge_index)\n",
    "    \n",
    "    def forward(self):\n",
    "        pos_x = self.data\n",
    "        neg_x = self.corruption(pos_x)\n",
    "        encoder = GCNlayer(self.data.num_features, self.dim)\n",
    "        pos_h = encoder(pos_x.x, pos_x.edge_index)\n",
    "        neg_h = encoder(neg_x.x, neg_x.edge_index)\n",
    "        summary = torch.sigmoid(torch.mean(pos_h, dim = 0))\n",
    "        \n",
    "        pos_h = self.discriminator(pos_h,summary)\n",
    "        neg_h = self.discriminator(neg_h,summary)\n",
    "        loss_pos = self.loss(pos_h, torch.ones_like(pos_h))\n",
    "        loss_neg = self.loss(neg_h, torch.zeros_like(neg_h))\n",
    "        return loss_pos + loss_neg\n",
    "    \n",
    "    def predict(self, data):\n",
    "        pos_x = data\n",
    "        neg_x = self.corruption(pos_x)\n",
    "        encoder = GCNlayer(self.data.num_features, self.dim)\n",
    "        pos_h = encoder(pos_x.x, pos_x.edge_index)\n",
    "        neg_h = encoder(neg_x.x, neg_x.edge_index)\n",
    "        summary = torch.sigmoid(torch.mean(pos_h, dim = 0))\n",
    "        return pos_h, neg_h, summary\n",
    "    \n",
    "    def test(\n",
    "        self,\n",
    "        train_z: Tensor,\n",
    "        train_y: Tensor,\n",
    "        test_z: Tensor,\n",
    "        test_y: Tensor,\n",
    "        solver: str = 'lbfgs',\n",
    "        multi_class: str = 'auto',\n",
    "        *args,\n",
    "        **kwargs,\n",
    "    ) -> float:\n",
    "        r\"\"\"Evaluates latent space quality via a logistic regression downstream\n",
    "        task.\"\"\"\n",
    "        from sklearn.linear_model import LogisticRegression\n",
    "\n",
    "        clf = LogisticRegression(solver=solver, multi_class=multi_class, *args,\n",
    "                                 **kwargs).fit(train_z.detach().cpu().numpy(),\n",
    "                                               train_y.detach().cpu().numpy())\n",
    "        return clf.score(test_z.detach().cpu().numpy(),\n",
    "                         test_y.detach().cpu().numpy())\n"
   ]
  },
  {
   "cell_type": "code",
   "execution_count": 87,
   "id": "b412fc1d",
   "metadata": {},
   "outputs": [],
   "source": [
    "dataset = Planetoid(root='/tmp/Cora', name = 'Cora')\n",
    "data = dataset[0]"
   ]
  },
  {
   "cell_type": "code",
   "execution_count": 88,
   "id": "980f5ca8",
   "metadata": {},
   "outputs": [
    {
     "data": {
      "text/plain": [
       "Data(x=[2708, 1433], edge_index=[2, 10556], y=[2708], train_mask=[2708], val_mask=[2708], test_mask=[2708])"
      ]
     },
     "execution_count": 88,
     "metadata": {},
     "output_type": "execute_result"
    }
   ],
   "source": [
    "data"
   ]
  },
  {
   "cell_type": "code",
   "execution_count": 89,
   "id": "345182af",
   "metadata": {},
   "outputs": [],
   "source": [
    "device = torch.device('cuda' if torch.cuda.is_available() else 'cpu')\n",
    "model = DGI(data, 512)\n",
    "optimizer = torch.optim.Adam(model.parameters(), lr = 0.001)"
   ]
  },
  {
   "cell_type": "code",
   "execution_count": 90,
   "id": "3f8ba98f",
   "metadata": {},
   "outputs": [],
   "source": [
    "def train():\n",
    "    model.train()\n",
    "    optimizer.zero_grad()\n",
    "    loss = model()\n",
    "    loss.backward()\n",
    "    optimizer.step()\n",
    "    return loss.item()"
   ]
  },
  {
   "cell_type": "code",
   "execution_count": 91,
   "id": "400ed55a",
   "metadata": {},
   "outputs": [],
   "source": [
    "def test():\n",
    "    model.eval()\n",
    "    z, _, _ = model.predict(data)\n",
    "    acc = model.test(z[data.train_mask],data.y[data.train_mask],z[data.test_mask],data.y[data.test_mask],max_iter=10)\n",
    "    return acc"
   ]
  },
  {
   "cell_type": "code",
   "execution_count": 92,
   "id": "5296840e",
   "metadata": {},
   "outputs": [
    {
     "name": "stdout",
     "output_type": "stream",
     "text": [
      "Epoch: 1, Loss: 1.4673\n",
      "Epoch: 2, Loss: 1.4064\n",
      "Epoch: 3, Loss: 1.3930\n",
      "Epoch: 4, Loss: 1.3883\n",
      "Epoch: 5, Loss: 1.3881\n",
      "Epoch: 6, Loss: 1.3868\n",
      "Epoch: 7, Loss: 1.3865\n",
      "Epoch: 8, Loss: 1.3865\n",
      "Epoch: 9, Loss: 1.3864\n",
      "Epoch: 10, Loss: 1.3864\n",
      "Epoch: 11, Loss: 1.3864\n",
      "Epoch: 12, Loss: 1.3864\n",
      "Epoch: 13, Loss: 1.3864\n",
      "Epoch: 14, Loss: 1.3863\n",
      "Epoch: 15, Loss: 1.3863\n",
      "Epoch: 16, Loss: 1.3863\n",
      "Epoch: 17, Loss: 1.3863\n",
      "Epoch: 18, Loss: 1.3863\n",
      "Epoch: 19, Loss: 1.3863\n",
      "Epoch: 20, Loss: 1.3863\n",
      "Epoch: 21, Loss: 1.3863\n",
      "Epoch: 22, Loss: 1.3863\n",
      "Epoch: 23, Loss: 1.3863\n",
      "Epoch: 24, Loss: 1.3863\n",
      "Epoch: 25, Loss: 1.3863\n",
      "Epoch: 26, Loss: 1.3863\n",
      "Epoch: 27, Loss: 1.3863\n",
      "Epoch: 28, Loss: 1.3863\n",
      "Epoch: 29, Loss: 1.3863\n",
      "Epoch: 30, Loss: 1.3863\n",
      "Accuracy: 0.7380\n"
     ]
    },
    {
     "name": "stderr",
     "output_type": "stream",
     "text": [
      "C:\\Users\\ahn\\anaconda3\\lib\\site-packages\\sklearn\\linear_model\\_logistic.py:763: ConvergenceWarning: lbfgs failed to converge (status=1):\n",
      "STOP: TOTAL NO. of ITERATIONS REACHED LIMIT.\n",
      "\n",
      "Increase the number of iterations (max_iter) or scale the data as shown in:\n",
      "    https://scikit-learn.org/stable/modules/preprocessing.html\n",
      "Please also refer to the documentation for alternative solver options:\n",
      "    https://scikit-learn.org/stable/modules/linear_model.html#logistic-regression\n",
      "  n_iter_i = _check_optimize_result(\n"
     ]
    }
   ],
   "source": [
    "for epoch in range(30):\n",
    "    loss = train()\n",
    "    print(\"Epoch: {:d}, Loss: {:.4f}\".format(epoch+1, loss))\n",
    "acc = test()\n",
    "print(\"Accuracy: {:.4f}\".format(acc))"
   ]
  },
  {
   "cell_type": "code",
   "execution_count": null,
   "id": "e17253b9",
   "metadata": {},
   "outputs": [],
   "source": []
  },
  {
   "cell_type": "code",
   "execution_count": null,
   "id": "67856926",
   "metadata": {},
   "outputs": [],
   "source": []
  },
  {
   "cell_type": "code",
   "execution_count": null,
   "id": "7ce9ce64",
   "metadata": {},
   "outputs": [],
   "source": []
  }
 ],
 "metadata": {
  "kernelspec": {
   "display_name": "Python 3 (ipykernel)",
   "language": "python",
   "name": "python3"
  },
  "language_info": {
   "codemirror_mode": {
    "name": "ipython",
    "version": 3
   },
   "file_extension": ".py",
   "mimetype": "text/x-python",
   "name": "python",
   "nbconvert_exporter": "python",
   "pygments_lexer": "ipython3",
   "version": "3.9.7"
  }
 },
 "nbformat": 4,
 "nbformat_minor": 5
}
