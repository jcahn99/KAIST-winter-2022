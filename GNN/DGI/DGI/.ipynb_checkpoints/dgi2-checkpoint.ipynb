{
 "cells": [
  {
   "cell_type": "code",
   "execution_count": 2,
   "metadata": {
    "colab": {
     "base_uri": "https://localhost:8080/"
    },
    "executionInfo": {
     "elapsed": 7397,
     "status": "ok",
     "timestamp": 1675422919152,
     "user": {
      "displayName": "안중찬",
      "userId": "08828478468558364799"
     },
     "user_tz": -540
    },
    "id": "zNucHDcO2rGc",
    "outputId": "b1f040f1-0d17-48f3-c837-338611e99a1b"
   },
   "outputs": [
    {
     "name": "stdout",
     "output_type": "stream",
     "text": [
      "1.13.1\n"
     ]
    }
   ],
   "source": [
    "import torch; print(torch.__version__)"
   ]
  },
  {
   "cell_type": "code",
   "execution_count": 3,
   "metadata": {
    "colab": {
     "base_uri": "https://localhost:8080/",
     "height": 718
    },
    "executionInfo": {
     "elapsed": 12450,
     "status": "ok",
     "timestamp": 1675422931596,
     "user": {
      "displayName": "안중찬",
      "userId": "08828478468558364799"
     },
     "user_tz": -540
    },
    "id": "_19yAmT221D5",
    "outputId": "27a027df-5729-4114-ee38-65b5a4b257d3"
   },
   "outputs": [
    {
     "name": "stdout",
     "output_type": "stream",
     "text": [
      "Requirement already satisfied: torch_geometric in c:\\users\\ahn\\anaconda3\\lib\\site-packages (2.2.0)\n",
      "Requirement already satisfied: numpy in c:\\users\\ahn\\anaconda3\\lib\\site-packages (from torch_geometric) (1.20.3)\n",
      "Requirement already satisfied: tqdm in c:\\users\\ahn\\anaconda3\\lib\\site-packages (from torch_geometric) (4.64.1)\n",
      "Requirement already satisfied: scikit-learn in c:\\users\\ahn\\anaconda3\\lib\\site-packages (from torch_geometric) (0.24.2)\n",
      "Requirement already satisfied: scipy in c:\\users\\ahn\\anaconda3\\lib\\site-packages (from torch_geometric) (1.7.1)\n",
      "Requirement already satisfied: psutil>=5.8.0 in c:\\users\\ahn\\anaconda3\\lib\\site-packages (from torch_geometric) (5.8.0)\n",
      "Requirement already satisfied: requests in c:\\users\\ahn\\anaconda3\\lib\\site-packages (from torch_geometric) (2.26.0)\n",
      "Requirement already satisfied: pyparsing in c:\\users\\ahn\\anaconda3\\lib\\site-packages (from torch_geometric) (3.0.4)\n",
      "Requirement already satisfied: jinja2 in c:\\users\\ahn\\anaconda3\\lib\\site-packages (from torch_geometric) (2.11.3)\n",
      "Requirement already satisfied: MarkupSafe>=0.23 in c:\\users\\ahn\\anaconda3\\lib\\site-packages (from jinja2->torch_geometric) (1.1.1)\n",
      "Requirement already satisfied: certifi>=2017.4.17 in c:\\users\\ahn\\anaconda3\\lib\\site-packages (from requests->torch_geometric) (2022.12.7)\n",
      "Requirement already satisfied: urllib3<1.27,>=1.21.1 in c:\\users\\ahn\\anaconda3\\lib\\site-packages (from requests->torch_geometric) (1.26.7)\n",
      "Requirement already satisfied: charset-normalizer~=2.0.0 in c:\\users\\ahn\\anaconda3\\lib\\site-packages (from requests->torch_geometric) (2.0.4)\n",
      "Requirement already satisfied: idna<4,>=2.5 in c:\\users\\ahn\\anaconda3\\lib\\site-packages (from requests->torch_geometric) (3.2)\n",
      "Requirement already satisfied: threadpoolctl>=2.0.0 in c:\\users\\ahn\\anaconda3\\lib\\site-packages (from scikit-learn->torch_geometric) (2.2.0)\n",
      "Requirement already satisfied: joblib>=0.11 in c:\\users\\ahn\\anaconda3\\lib\\site-packages (from scikit-learn->torch_geometric) (1.1.0)\n",
      "Requirement already satisfied: colorama in c:\\users\\ahn\\anaconda3\\lib\\site-packages (from tqdm->torch_geometric) (0.4.4)\n",
      "Note: you may need to restart the kernel to use updated packages.\n"
     ]
    },
    {
     "name": "stderr",
     "output_type": "stream",
     "text": [
      "WARNING: Ignoring invalid distribution -ffi (c:\\users\\ahn\\anaconda3\\lib\\site-packages)\n",
      "WARNING: Ignoring invalid distribution -ffi (c:\\users\\ahn\\anaconda3\\lib\\site-packages)\n",
      "WARNING: Ignoring invalid distribution -ffi (c:\\users\\ahn\\anaconda3\\lib\\site-packages)\n",
      "WARNING: Ignoring invalid distribution -ffi (c:\\users\\ahn\\anaconda3\\lib\\site-packages)\n",
      "WARNING: Ignoring invalid distribution -ffi (c:\\users\\ahn\\anaconda3\\lib\\site-packages)\n",
      "WARNING: Ignoring invalid distribution -ffi (c:\\users\\ahn\\anaconda3\\lib\\site-packages)\n"
     ]
    }
   ],
   "source": [
    "pip install torch_geometric"
   ]
  },
  {
   "cell_type": "code",
   "execution_count": 4,
   "metadata": {
    "colab": {
     "base_uri": "https://localhost:8080/"
    },
    "executionInfo": {
     "elapsed": 4907,
     "status": "ok",
     "timestamp": 1675422939637,
     "user": {
      "displayName": "안중찬",
      "userId": "08828478468558364799"
     },
     "user_tz": -540
    },
    "id": "tiVZW9UfASTP",
    "outputId": "b881d168-b58d-4ce5-b448-32fc5d1b159b"
   },
   "outputs": [
    {
     "name": "stdout",
     "output_type": "stream",
     "text": [
      "Looking in links: https://data.pyg.org/whl/torch-1.13.1.html\n",
      "Collecting torch_scatter\n",
      "  Using cached torch_scatter-2.1.0.tar.gz (106 kB)\n",
      "Collecting torch-sparse\n",
      "  Using cached torch_sparse-0.6.16.tar.gz (208 kB)\n",
      "Requirement already satisfied: scipy in c:\\users\\ahn\\anaconda3\\lib\\site-packages (from torch-sparse) (1.7.1)\n",
      "Requirement already satisfied: numpy<1.23.0,>=1.16.5 in c:\\users\\ahn\\anaconda3\\lib\\site-packages (from scipy->torch-sparse) (1.20.3)\n",
      "Building wheels for collected packages: torch-scatter, torch-sparse\n",
      "  Building wheel for torch-scatter (setup.py): started\n",
      "  Building wheel for torch-scatter (setup.py): finished with status 'error'\n",
      "  Running setup.py clean for torch-scatter\n",
      "  Building wheel for torch-sparse (setup.py): started\n",
      "  Building wheel for torch-sparse (setup.py): finished with status 'error'\n",
      "  Running setup.py clean for torch-sparse\n",
      "Failed to build torch-scatter torch-sparse\n",
      "Installing collected packages: torch-sparse, torch-scatter\n",
      "    Running setup.py install for torch-sparse: started\n",
      "    Running setup.py install for torch-sparse: finished with status 'error'\n",
      "Note: you may need to restart the kernel to use updated packages.\n"
     ]
    },
    {
     "name": "stderr",
     "output_type": "stream",
     "text": [
      "WARNING: Ignoring invalid distribution -ffi (c:\\users\\ahn\\anaconda3\\lib\\site-packages)\n",
      "WARNING: Ignoring invalid distribution -ffi (c:\\users\\ahn\\anaconda3\\lib\\site-packages)\n",
      "  ERROR: Command errored out with exit status 1:\n",
      "   command: 'C:\\Users\\ahn\\anaconda3\\python.exe' -u -c 'import io, os, sys, setuptools, tokenize; sys.argv[0] = '\"'\"'C:\\\\Users\\\\ahn\\\\AppData\\\\Local\\\\Temp\\\\pip-install-ug8fsvnl\\\\torch-scatter_0da1875be053447288e0cc2b535a5d28\\\\setup.py'\"'\"'; __file__='\"'\"'C:\\\\Users\\\\ahn\\\\AppData\\\\Local\\\\Temp\\\\pip-install-ug8fsvnl\\\\torch-scatter_0da1875be053447288e0cc2b535a5d28\\\\setup.py'\"'\"';f = getattr(tokenize, '\"'\"'open'\"'\"', open)(__file__) if os.path.exists(__file__) else io.StringIO('\"'\"'from setuptools import setup; setup()'\"'\"');code = f.read().replace('\"'\"'\\r\\n'\"'\"', '\"'\"'\\n'\"'\"');f.close();exec(compile(code, __file__, '\"'\"'exec'\"'\"'))' bdist_wheel -d 'C:\\Users\\ahn\\AppData\\Local\\Temp\\pip-wheel-eeb4w6eh'\n",
      "       cwd: C:\\Users\\ahn\\AppData\\Local\\Temp\\pip-install-ug8fsvnl\\torch-scatter_0da1875be053447288e0cc2b535a5d28\\\n",
      "  Complete output (37 lines):\n",
      "  running bdist_wheel\n",
      "  running build\n",
      "  running build_py\n",
      "  creating build\n",
      "  creating build\\lib.win-amd64-3.9\n",
      "  creating build\\lib.win-amd64-3.9\\torch_scatter\n",
      "  copying torch_scatter\\placeholder.py -> build\\lib.win-amd64-3.9\\torch_scatter\n",
      "  copying torch_scatter\\scatter.py -> build\\lib.win-amd64-3.9\\torch_scatter\n",
      "  copying torch_scatter\\segment_coo.py -> build\\lib.win-amd64-3.9\\torch_scatter\n",
      "  copying torch_scatter\\segment_csr.py -> build\\lib.win-amd64-3.9\\torch_scatter\n",
      "  copying torch_scatter\\utils.py -> build\\lib.win-amd64-3.9\\torch_scatter\n",
      "  copying torch_scatter\\__init__.py -> build\\lib.win-amd64-3.9\\torch_scatter\n",
      "  creating build\\lib.win-amd64-3.9\\torch_scatter\\composite\n",
      "  copying torch_scatter\\composite\\logsumexp.py -> build\\lib.win-amd64-3.9\\torch_scatter\\composite\n",
      "  copying torch_scatter\\composite\\softmax.py -> build\\lib.win-amd64-3.9\\torch_scatter\\composite\n",
      "  copying torch_scatter\\composite\\std.py -> build\\lib.win-amd64-3.9\\torch_scatter\\composite\n",
      "  copying torch_scatter\\composite\\__init__.py -> build\\lib.win-amd64-3.9\\torch_scatter\\composite\n",
      "  running egg_info\n",
      "  writing torch_scatter.egg-info\\PKG-INFO\n",
      "  writing dependency_links to torch_scatter.egg-info\\dependency_links.txt\n",
      "  writing requirements to torch_scatter.egg-info\\requires.txt\n",
      "  writing top-level names to torch_scatter.egg-info\\top_level.txt\n",
      "  reading manifest file 'torch_scatter.egg-info\\SOURCES.txt'\n",
      "  reading manifest template 'MANIFEST.in'\n",
      "  warning: no previously-included files matching '*' found under directory 'test'\n",
      "  adding license file 'LICENSE'\n",
      "  writing manifest file 'torch_scatter.egg-info\\SOURCES.txt'\n",
      "  running build_ext\n",
      "  C:\\Users\\ahn\\anaconda3\\lib\\site-packages\\torch\\utils\\cpp_extension.py:358: UserWarning: Error checking compiler version for cl: [WinError 2] 지정된 파일을 찾을 수 없습니다\n",
      "    warnings.warn(f'Error checking compiler version for {compiler}: {error}')\n",
      "  building 'torch_scatter._scatter_cpu' extension\n",
      "  error: Microsoft Visual C++ 14.0 or greater is required. Get it with \"Microsoft C++ Build Tools\": https://visualstudio.microsoft.com/visual-cpp-build-tools/\n",
      "  Error in atexit._run_exitfuncs:\n",
      "  Traceback (most recent call last):\n",
      "    File \"C:\\Users\\ahn\\anaconda3\\lib\\site-packages\\colorama\\ansitowin32.py\", line 59, in closed\n",
      "      return stream.closed\n",
      "  ValueError: underlying buffer has been detached\n",
      "  ----------------------------------------\n",
      "  ERROR: Failed building wheel for torch-scatter\n",
      "  ERROR: Command errored out with exit status 1:\n",
      "   command: 'C:\\Users\\ahn\\anaconda3\\python.exe' -u -c 'import io, os, sys, setuptools, tokenize; sys.argv[0] = '\"'\"'C:\\\\Users\\\\ahn\\\\AppData\\\\Local\\\\Temp\\\\pip-install-ug8fsvnl\\\\torch-sparse_3485fd8ea23b4bf8aeaeb92149091b81\\\\setup.py'\"'\"'; __file__='\"'\"'C:\\\\Users\\\\ahn\\\\AppData\\\\Local\\\\Temp\\\\pip-install-ug8fsvnl\\\\torch-sparse_3485fd8ea23b4bf8aeaeb92149091b81\\\\setup.py'\"'\"';f = getattr(tokenize, '\"'\"'open'\"'\"', open)(__file__) if os.path.exists(__file__) else io.StringIO('\"'\"'from setuptools import setup; setup()'\"'\"');code = f.read().replace('\"'\"'\\r\\n'\"'\"', '\"'\"'\\n'\"'\"');f.close();exec(compile(code, __file__, '\"'\"'exec'\"'\"'))' bdist_wheel -d 'C:\\Users\\ahn\\AppData\\Local\\Temp\\pip-wheel-onxbw9__'\n",
      "       cwd: C:\\Users\\ahn\\AppData\\Local\\Temp\\pip-install-ug8fsvnl\\torch-sparse_3485fd8ea23b4bf8aeaeb92149091b81\\\n",
      "  Complete output (60 lines):\n",
      "  running bdist_wheel\n",
      "  running build\n",
      "  running build_py\n",
      "  creating build\n",
      "  creating build\\lib.win-amd64-3.9\n",
      "  creating build\\lib.win-amd64-3.9\\torch_sparse\n",
      "  copying torch_sparse\\add.py -> build\\lib.win-amd64-3.9\\torch_sparse\n",
      "  copying torch_sparse\\bandwidth.py -> build\\lib.win-amd64-3.9\\torch_sparse\n",
      "  copying torch_sparse\\cat.py -> build\\lib.win-amd64-3.9\\torch_sparse\n",
      "  copying torch_sparse\\coalesce.py -> build\\lib.win-amd64-3.9\\torch_sparse\n",
      "  copying torch_sparse\\convert.py -> build\\lib.win-amd64-3.9\\torch_sparse\n",
      "  copying torch_sparse\\diag.py -> build\\lib.win-amd64-3.9\\torch_sparse\n",
      "  copying torch_sparse\\eye.py -> build\\lib.win-amd64-3.9\\torch_sparse\n",
      "  copying torch_sparse\\index_select.py -> build\\lib.win-amd64-3.9\\torch_sparse\n",
      "  copying torch_sparse\\masked_select.py -> build\\lib.win-amd64-3.9\\torch_sparse\n",
      "  copying torch_sparse\\matmul.py -> build\\lib.win-amd64-3.9\\torch_sparse\n",
      "  copying torch_sparse\\metis.py -> build\\lib.win-amd64-3.9\\torch_sparse\n",
      "  copying torch_sparse\\mul.py -> build\\lib.win-amd64-3.9\\torch_sparse\n",
      "  copying torch_sparse\\narrow.py -> build\\lib.win-amd64-3.9\\torch_sparse\n",
      "  copying torch_sparse\\permute.py -> build\\lib.win-amd64-3.9\\torch_sparse\n",
      "  copying torch_sparse\\reduce.py -> build\\lib.win-amd64-3.9\\torch_sparse\n",
      "  copying torch_sparse\\rw.py -> build\\lib.win-amd64-3.9\\torch_sparse\n",
      "  copying torch_sparse\\saint.py -> build\\lib.win-amd64-3.9\\torch_sparse\n",
      "  copying torch_sparse\\sample.py -> build\\lib.win-amd64-3.9\\torch_sparse\n",
      "  copying torch_sparse\\select.py -> build\\lib.win-amd64-3.9\\torch_sparse\n",
      "  copying torch_sparse\\spadd.py -> build\\lib.win-amd64-3.9\\torch_sparse\n",
      "  copying torch_sparse\\spmm.py -> build\\lib.win-amd64-3.9\\torch_sparse\n",
      "  copying torch_sparse\\spspmm.py -> build\\lib.win-amd64-3.9\\torch_sparse\n",
      "  copying torch_sparse\\storage.py -> build\\lib.win-amd64-3.9\\torch_sparse\n",
      "  copying torch_sparse\\tensor.py -> build\\lib.win-amd64-3.9\\torch_sparse\n",
      "  copying torch_sparse\\testing.py -> build\\lib.win-amd64-3.9\\torch_sparse\n",
      "  copying torch_sparse\\transpose.py -> build\\lib.win-amd64-3.9\\torch_sparse\n",
      "  copying torch_sparse\\utils.py -> build\\lib.win-amd64-3.9\\torch_sparse\n",
      "  copying torch_sparse\\__init__.py -> build\\lib.win-amd64-3.9\\torch_sparse\n",
      "  running egg_info\n",
      "  writing torch_sparse.egg-info\\PKG-INFO\n",
      "  writing dependency_links to torch_sparse.egg-info\\dependency_links.txt\n",
      "  writing requirements to torch_sparse.egg-info\\requires.txt\n",
      "  writing top-level names to torch_sparse.egg-info\\top_level.txt\n",
      "  reading manifest file 'torch_sparse.egg-info\\SOURCES.txt'\n",
      "  reading manifest template 'MANIFEST.in'\n",
      "  warning: no previously-included files matching '*' found under directory 'third_party\\parallel-hashmap\\css'\n",
      "  warning: no previously-included files matching '*' found under directory 'third_party\\parallel-hashmap\\html'\n",
      "  warning: no previously-included files matching '*' found under directory 'third_party\\parallel-hashmap\\tests'\n",
      "  warning: no previously-included files matching '*' found under directory 'third_party\\parallel-hashmap\\examples'\n",
      "  warning: no previously-included files matching '*' found under directory 'third_party\\parallel-hashmap\\benchmark'\n",
      "  warning: no previously-included files matching '*' found under directory 'test'\n",
      "  warning: no previously-included files matching '*' found under directory 'benchmark'\n",
      "  adding license file 'LICENSE'\n",
      "  writing manifest file 'torch_sparse.egg-info\\SOURCES.txt'\n",
      "  running build_ext\n",
      "  C:\\Users\\ahn\\anaconda3\\lib\\site-packages\\torch\\utils\\cpp_extension.py:358: UserWarning: Error checking compiler version for cl: [WinError 2] 지정된 파일을 찾을 수 없습니다\n",
      "    warnings.warn(f'Error checking compiler version for {compiler}: {error}')\n",
      "  building 'torch_sparse._convert_cpu' extension\n",
      "  error: Microsoft Visual C++ 14.0 or greater is required. Get it with \"Microsoft C++ Build Tools\": https://visualstudio.microsoft.com/visual-cpp-build-tools/\n",
      "  Error in atexit._run_exitfuncs:\n",
      "  Traceback (most recent call last):\n",
      "    File \"C:\\Users\\ahn\\anaconda3\\lib\\site-packages\\colorama\\ansitowin32.py\", line 59, in closed\n",
      "      return stream.closed\n",
      "  ValueError: underlying buffer has been detached\n",
      "  ----------------------------------------\n",
      "  ERROR: Failed building wheel for torch-sparse\n",
      "WARNING: Ignoring invalid distribution -ffi (c:\\users\\ahn\\anaconda3\\lib\\site-packages)\n",
      "    ERROR: Command errored out with exit status 1:\n",
      "     command: 'C:\\Users\\ahn\\anaconda3\\python.exe' -u -c 'import io, os, sys, setuptools, tokenize; sys.argv[0] = '\"'\"'C:\\\\Users\\\\ahn\\\\AppData\\\\Local\\\\Temp\\\\pip-install-ug8fsvnl\\\\torch-sparse_3485fd8ea23b4bf8aeaeb92149091b81\\\\setup.py'\"'\"'; __file__='\"'\"'C:\\\\Users\\\\ahn\\\\AppData\\\\Local\\\\Temp\\\\pip-install-ug8fsvnl\\\\torch-sparse_3485fd8ea23b4bf8aeaeb92149091b81\\\\setup.py'\"'\"';f = getattr(tokenize, '\"'\"'open'\"'\"', open)(__file__) if os.path.exists(__file__) else io.StringIO('\"'\"'from setuptools import setup; setup()'\"'\"');code = f.read().replace('\"'\"'\\r\\n'\"'\"', '\"'\"'\\n'\"'\"');f.close();exec(compile(code, __file__, '\"'\"'exec'\"'\"'))' install --record 'C:\\Users\\ahn\\AppData\\Local\\Temp\\pip-record-f919zcft\\install-record.txt' --single-version-externally-managed --compile --install-headers 'C:\\Users\\ahn\\anaconda3\\Include\\torch-sparse'\n",
      "         cwd: C:\\Users\\ahn\\AppData\\Local\\Temp\\pip-install-ug8fsvnl\\torch-sparse_3485fd8ea23b4bf8aeaeb92149091b81\\\n",
      "    Complete output (60 lines):\n",
      "    running install\n",
      "    running build\n",
      "    running build_py\n",
      "    creating build\n",
      "    creating build\\lib.win-amd64-3.9\n",
      "    creating build\\lib.win-amd64-3.9\\torch_sparse\n",
      "    copying torch_sparse\\add.py -> build\\lib.win-amd64-3.9\\torch_sparse\n",
      "    copying torch_sparse\\bandwidth.py -> build\\lib.win-amd64-3.9\\torch_sparse\n",
      "    copying torch_sparse\\cat.py -> build\\lib.win-amd64-3.9\\torch_sparse\n",
      "    copying torch_sparse\\coalesce.py -> build\\lib.win-amd64-3.9\\torch_sparse\n",
      "    copying torch_sparse\\convert.py -> build\\lib.win-amd64-3.9\\torch_sparse\n",
      "    copying torch_sparse\\diag.py -> build\\lib.win-amd64-3.9\\torch_sparse\n",
      "    copying torch_sparse\\eye.py -> build\\lib.win-amd64-3.9\\torch_sparse\n",
      "    copying torch_sparse\\index_select.py -> build\\lib.win-amd64-3.9\\torch_sparse\n",
      "    copying torch_sparse\\masked_select.py -> build\\lib.win-amd64-3.9\\torch_sparse\n",
      "    copying torch_sparse\\matmul.py -> build\\lib.win-amd64-3.9\\torch_sparse\n",
      "    copying torch_sparse\\metis.py -> build\\lib.win-amd64-3.9\\torch_sparse\n",
      "    copying torch_sparse\\mul.py -> build\\lib.win-amd64-3.9\\torch_sparse\n",
      "    copying torch_sparse\\narrow.py -> build\\lib.win-amd64-3.9\\torch_sparse\n",
      "    copying torch_sparse\\permute.py -> build\\lib.win-amd64-3.9\\torch_sparse\n",
      "    copying torch_sparse\\reduce.py -> build\\lib.win-amd64-3.9\\torch_sparse\n",
      "    copying torch_sparse\\rw.py -> build\\lib.win-amd64-3.9\\torch_sparse\n",
      "    copying torch_sparse\\saint.py -> build\\lib.win-amd64-3.9\\torch_sparse\n",
      "    copying torch_sparse\\sample.py -> build\\lib.win-amd64-3.9\\torch_sparse\n",
      "    copying torch_sparse\\select.py -> build\\lib.win-amd64-3.9\\torch_sparse\n",
      "    copying torch_sparse\\spadd.py -> build\\lib.win-amd64-3.9\\torch_sparse\n",
      "    copying torch_sparse\\spmm.py -> build\\lib.win-amd64-3.9\\torch_sparse\n",
      "    copying torch_sparse\\spspmm.py -> build\\lib.win-amd64-3.9\\torch_sparse\n",
      "    copying torch_sparse\\storage.py -> build\\lib.win-amd64-3.9\\torch_sparse\n",
      "    copying torch_sparse\\tensor.py -> build\\lib.win-amd64-3.9\\torch_sparse\n",
      "    copying torch_sparse\\testing.py -> build\\lib.win-amd64-3.9\\torch_sparse\n",
      "    copying torch_sparse\\transpose.py -> build\\lib.win-amd64-3.9\\torch_sparse\n",
      "    copying torch_sparse\\utils.py -> build\\lib.win-amd64-3.9\\torch_sparse\n",
      "    copying torch_sparse\\__init__.py -> build\\lib.win-amd64-3.9\\torch_sparse\n",
      "    running egg_info\n",
      "    writing torch_sparse.egg-info\\PKG-INFO\n",
      "    writing dependency_links to torch_sparse.egg-info\\dependency_links.txt\n",
      "    writing requirements to torch_sparse.egg-info\\requires.txt\n",
      "    writing top-level names to torch_sparse.egg-info\\top_level.txt\n",
      "    reading manifest file 'torch_sparse.egg-info\\SOURCES.txt'\n",
      "    reading manifest template 'MANIFEST.in'\n",
      "    warning: no previously-included files matching '*' found under directory 'third_party\\parallel-hashmap\\css'\n",
      "    warning: no previously-included files matching '*' found under directory 'third_party\\parallel-hashmap\\html'\n",
      "    warning: no previously-included files matching '*' found under directory 'third_party\\parallel-hashmap\\tests'\n",
      "    warning: no previously-included files matching '*' found under directory 'third_party\\parallel-hashmap\\examples'\n",
      "    warning: no previously-included files matching '*' found under directory 'third_party\\parallel-hashmap\\benchmark'\n",
      "    warning: no previously-included files matching '*' found under directory 'test'\n",
      "    warning: no previously-included files matching '*' found under directory 'benchmark'\n",
      "    adding license file 'LICENSE'\n",
      "    writing manifest file 'torch_sparse.egg-info\\SOURCES.txt'\n",
      "    running build_ext\n",
      "    C:\\Users\\ahn\\anaconda3\\lib\\site-packages\\torch\\utils\\cpp_extension.py:358: UserWarning: Error checking compiler version for cl: [WinError 2] 지정된 파일을 찾을 수 없습니다\n",
      "      warnings.warn(f'Error checking compiler version for {compiler}: {error}')\n",
      "    building 'torch_sparse._convert_cpu' extension\n",
      "    error: Microsoft Visual C++ 14.0 or greater is required. Get it with \"Microsoft C++ Build Tools\": https://visualstudio.microsoft.com/visual-cpp-build-tools/\n",
      "    Error in atexit._run_exitfuncs:\n",
      "    Traceback (most recent call last):\n",
      "      File \"C:\\Users\\ahn\\anaconda3\\lib\\site-packages\\colorama\\ansitowin32.py\", line 59, in closed\n",
      "        return stream.closed\n",
      "    ValueError: underlying buffer has been detached\n",
      "    ----------------------------------------\n",
      "ERROR: Command errored out with exit status 1: 'C:\\Users\\ahn\\anaconda3\\python.exe' -u -c 'import io, os, sys, setuptools, tokenize; sys.argv[0] = '\"'\"'C:\\\\Users\\\\ahn\\\\AppData\\\\Local\\\\Temp\\\\pip-install-ug8fsvnl\\\\torch-sparse_3485fd8ea23b4bf8aeaeb92149091b81\\\\setup.py'\"'\"'; __file__='\"'\"'C:\\\\Users\\\\ahn\\\\AppData\\\\Local\\\\Temp\\\\pip-install-ug8fsvnl\\\\torch-sparse_3485fd8ea23b4bf8aeaeb92149091b81\\\\setup.py'\"'\"';f = getattr(tokenize, '\"'\"'open'\"'\"', open)(__file__) if os.path.exists(__file__) else io.StringIO('\"'\"'from setuptools import setup; setup()'\"'\"');code = f.read().replace('\"'\"'\\r\\n'\"'\"', '\"'\"'\\n'\"'\"');f.close();exec(compile(code, __file__, '\"'\"'exec'\"'\"'))' install --record 'C:\\Users\\ahn\\AppData\\Local\\Temp\\pip-record-f919zcft\\install-record.txt' --single-version-externally-managed --compile --install-headers 'C:\\Users\\ahn\\anaconda3\\Include\\torch-sparse' Check the logs for full command output.\n",
      "WARNING: Ignoring invalid distribution -ffi (c:\\users\\ahn\\anaconda3\\lib\\site-packages)\n",
      "WARNING: Ignoring invalid distribution -ffi (c:\\users\\ahn\\anaconda3\\lib\\site-packages)\n",
      "WARNING: Ignoring invalid distribution -ffi (c:\\users\\ahn\\anaconda3\\lib\\site-packages)\n"
     ]
    }
   ],
   "source": [
    "pip install torch-scatter torch-sparse -f https://data.pyg.org/whl/torch-1.13.1+cu116.html"
   ]
  },
  {
   "cell_type": "code",
   "execution_count": 5,
   "metadata": {
    "executionInfo": {
     "elapsed": 1684,
     "status": "ok",
     "timestamp": 1675422941315,
     "user": {
      "displayName": "안중찬",
      "userId": "08828478468558364799"
     },
     "user_tz": -540
    },
    "id": "CoVJITEKKwyg"
   },
   "outputs": [],
   "source": [
    "from torch_geometric.datasets import Planetoid"
   ]
  },
  {
   "cell_type": "code",
   "execution_count": 7,
   "metadata": {
    "executionInfo": {
     "elapsed": 4,
     "status": "ok",
     "timestamp": 1675422957184,
     "user": {
      "displayName": "안중찬",
      "userId": "08828478468558364799"
     },
     "user_tz": -540
    },
    "id": "KKsZFhoeK3vw"
   },
   "outputs": [],
   "source": [
    "dataset = Planetoid(root = '/tmp/Cora', name = 'Cora')"
   ]
  },
  {
   "cell_type": "code",
   "execution_count": 8,
   "metadata": {
    "executionInfo": {
     "elapsed": 2,
     "status": "ok",
     "timestamp": 1675422964724,
     "user": {
      "displayName": "안중찬",
      "userId": "08828478468558364799"
     },
     "user_tz": -540
    },
    "id": "mBEtuBFoCgWJ"
   },
   "outputs": [],
   "source": [
    "data = dataset[0]"
   ]
  },
  {
   "cell_type": "code",
   "execution_count": 10,
   "metadata": {
    "colab": {
     "base_uri": "https://localhost:8080/"
    },
    "executionInfo": {
     "elapsed": 5,
     "status": "ok",
     "timestamp": 1675422989594,
     "user": {
      "displayName": "안중찬",
      "userId": "08828478468558364799"
     },
     "user_tz": -540
    },
    "id": "ERGyBs9jCgfn",
    "outputId": "886f5a19-b7b2-4203-ecc4-f689f27765ed"
   },
   "outputs": [
    {
     "name": "stdout",
     "output_type": "stream",
     "text": [
      "Data(x=[2708, 1433], edge_index=[2, 10556], y=[2708], train_mask=[2708], val_mask=[2708], test_mask=[2708])\n"
     ]
    }
   ],
   "source": [
    "print(data)"
   ]
  },
  {
   "cell_type": "code",
   "execution_count": 11,
   "metadata": {
    "executionInfo": {
     "elapsed": 324,
     "status": "ok",
     "timestamp": 1675422994171,
     "user": {
      "displayName": "안중찬",
      "userId": "08828478468558364799"
     },
     "user_tz": -540
    },
    "id": "Hy-Ac20ZLteZ"
   },
   "outputs": [],
   "source": [
    "import torch\n",
    "import torch.nn as nn\n",
    "import torch.nn.functional as F"
   ]
  },
  {
   "cell_type": "code",
   "execution_count": 13,
   "metadata": {
    "colab": {
     "base_uri": "https://localhost:8080/",
     "height": 35
    },
    "executionInfo": {
     "elapsed": 6,
     "status": "ok",
     "timestamp": 1675423090128,
     "user": {
      "displayName": "안중찬",
      "userId": "08828478468558364799"
     },
     "user_tz": -540
    },
    "id": "twIa9pyvd2dN",
    "outputId": "db9961b4-abe6-4923-f59c-dfa8a9173481"
   },
   "outputs": [
    {
     "data": {
      "application/vnd.google.colaboratory.intrinsic+json": {
       "type": "string"
      },
      "text/plain": [
       "'\\nclass DGI(nn.Module):\\n  def __init__(self, ):\\n    super(DGI, self).__init__()\\n\\n  def encoder(self)\\n  \\n  def corruption(self)\\n  \\n  def discriminator(self)\\n  \\n  def readout(self)\\n  \\n  def forward(self)\\n  \\n  def main()\\n'"
      ]
     },
     "execution_count": 13,
     "metadata": {},
     "output_type": "execute_result"
    }
   ],
   "source": [
    "'''\n",
    "class DGI(nn.Module):\n",
    "  def __init__(self, ):\n",
    "    super(DGI, self).__init__()\n",
    "\n",
    "  def encoder(self)\n",
    "  \n",
    "  def corruption(self)\n",
    "  \n",
    "  def discriminator(self)\n",
    "  \n",
    "  def readout(self)\n",
    "  \n",
    "  def forward(self)\n",
    "  \n",
    "  def main()\n",
    "'''"
   ]
  },
  {
   "cell_type": "code",
   "execution_count": 15,
   "metadata": {
    "executionInfo": {
     "elapsed": 310,
     "status": "ok",
     "timestamp": 1675423690710,
     "user": {
      "displayName": "안중찬",
      "userId": "08828478468558364799"
     },
     "user_tz": -540
    },
    "id": "T-kCIQ6uFXay"
   },
   "outputs": [],
   "source": [
    "class Readout(nn.Module):\n",
    "  def __init__(self):\n",
    "    super(Readout, self).__init__()\n",
    "    self.sigmoid = nn.sigmoid()\n",
    "\n",
    "  def forward(self, h):\n",
    "    return self.sigmoid(torch.mean(h, dim=0))"
   ]
  },
  {
   "cell_type": "code",
   "execution_count": 19,
   "metadata": {
    "executionInfo": {
     "elapsed": 2,
     "status": "ok",
     "timestamp": 1675425066530,
     "user": {
      "displayName": "안중찬",
      "userId": "08828478468558364799"
     },
     "user_tz": -540
    },
    "id": "z3qC-qdEFXdO"
   },
   "outputs": [],
   "source": [
    "class Discriminator(nn.Module):\n",
    "  def __init__(self):\n",
    "    super(Discriminator, self).__init__()\n",
    "    self.sigmoid = nn.sigmoid()\n",
    "    self.W = nn.Bilinear(n_h, n_h, 1, bias = False)\n",
    "    nn.init.xavier_uniform(self.W.weight.data)\n",
    "  \n",
    "  def forward(self,h,s):\n",
    "    return self.W(h,s)"
   ]
  },
  {
   "cell_type": "code",
   "execution_count": 33,
   "metadata": {
    "executionInfo": {
     "elapsed": 4,
     "status": "ok",
     "timestamp": 1675427915046,
     "user": {
      "displayName": "안중찬",
      "userId": "08828478468558364799"
     },
     "user_tz": -540
    },
    "id": "TQH0mwCJHDCI"
   },
   "outputs": [],
   "source": [
    "from torch_geometric.nn import GCNConv\n",
    "class GCN(nn.Module):\n",
    "  def __init__(self, input, output):\n",
    "    super(GCN, self).__init__()\n",
    "    self.gcn = GCNConv(dataset.num_node_features, 512)\n",
    "\n",
    "  def forward(self, data):\n",
    "    x, edge_index = data.x, data.edge_index\n",
    "    x = self.gcn(x, edge_index)\n",
    "    x = F.p   "
   ]
  },
  {
   "cell_type": "code",
   "execution_count": 21,
   "metadata": {
    "executionInfo": {
     "elapsed": 455,
     "status": "ok",
     "timestamp": 1675426358276,
     "user": {
      "displayName": "안중찬",
      "userId": "08828478468558364799"
     },
     "user_tz": -540
    },
    "id": "UnkVdIdFHDHM"
   },
   "outputs": [],
   "source": [
    "class LogReg(nn.Module):\n",
    "  def __init__(self):\n",
    "    super(LogReg, self).__init__()\n",
    "    self.fc = nn.Linear(ft_in, nb_classes)\n",
    "    nn.init.xavier_uniform(self.fc.weight.data)\n",
    "\n",
    "  def forward(self, x):\n",
    "    return self.fc(x)"
   ]
  },
  {
   "cell_type": "code",
   "execution_count": 42,
   "metadata": {
    "executionInfo": {
     "elapsed": 4,
     "status": "ok",
     "timestamp": 1675428336345,
     "user": {
      "displayName": "안중찬",
      "userId": "08828478468558364799"
     },
     "user_tz": -540
    },
    "id": "Rm73ttUaFXfW"
   },
   "outputs": [],
   "source": [
    "class DGI(nn.Module):\n",
    "  def __init__(self, x_p, x_n, adj):\n",
    "    super(DGI, self).__init__()\n",
    "    self.x_p = x_p\n",
    "    self.x_n = x_n\n",
    "    self.adj = adj\n",
    "    self.encoder = GCN()\n",
    "    self.readout = Readout()\n",
    "    self.discriminator = Discriminator()\n",
    "    self.sigmoid = nn.sigmoid()\n",
    "\n",
    "  def forward(self, x_p, x_n, adj):\n",
    "    h_p = self.encoder(self.x_p, self.adj)\n",
    "    h_n = self.encoder(self.x_n, self.adj)\n",
    "    s = self.readout(h_p)\n",
    "    s = self.sigmoid(s)\n",
    "    score = self.discriminator(s, h_p, h_n)\n",
    "    return score"
   ]
  },
  {
   "cell_type": "code",
   "execution_count": 43,
   "metadata": {
    "colab": {
     "base_uri": "https://localhost:8080/",
     "height": 420
    },
    "executionInfo": {
     "elapsed": 5,
     "status": "error",
     "timestamp": 1675428338518,
     "user": {
      "displayName": "안중찬",
      "userId": "08828478468558364799"
     },
     "user_tz": -540
    },
    "id": "6gIW9DXYFsGm",
    "outputId": "b8873f58-ebe7-4100-f783-450b718c2560"
   },
   "outputs": [
    {
     "ename": "TypeError",
     "evalue": "ignored",
     "output_type": "error",
     "traceback": [
      "\u001b[0;31m---------------------------------------------------------------------------\u001b[0m",
      "\u001b[0;31mTypeError\u001b[0m                                 Traceback (most recent call last)",
      "\u001b[0;32m<ipython-input-43-1e819eb4d640>\u001b[0m in \u001b[0;36m<module>\u001b[0;34m\u001b[0m\n\u001b[1;32m      7\u001b[0m \u001b[0madj\u001b[0m \u001b[0;34m=\u001b[0m \u001b[0mto_dense_adj\u001b[0m\u001b[0;34m(\u001b[0m\u001b[0mdata\u001b[0m\u001b[0;34m.\u001b[0m\u001b[0medge_index\u001b[0m\u001b[0;34m)\u001b[0m\u001b[0;34m\u001b[0m\u001b[0;34m\u001b[0m\u001b[0m\n\u001b[1;32m      8\u001b[0m \u001b[0mloss\u001b[0m \u001b[0;34m=\u001b[0m \u001b[0mnn\u001b[0m\u001b[0;34m.\u001b[0m\u001b[0mBCEWithLogitsLoss\u001b[0m\u001b[0;34m(\u001b[0m\u001b[0;34m)\u001b[0m\u001b[0;34m\u001b[0m\u001b[0;34m\u001b[0m\u001b[0m\n\u001b[0;32m----> 9\u001b[0;31m \u001b[0mmodel\u001b[0m \u001b[0;34m=\u001b[0m \u001b[0mDGI\u001b[0m\u001b[0;34m(\u001b[0m\u001b[0mx_p\u001b[0m\u001b[0;34m,\u001b[0m\u001b[0mx_n\u001b[0m\u001b[0;34m,\u001b[0m\u001b[0madj\u001b[0m\u001b[0;34m)\u001b[0m\u001b[0;34m.\u001b[0m\u001b[0mcuda\u001b[0m\u001b[0;34m(\u001b[0m\u001b[0;34m)\u001b[0m\u001b[0;34m\u001b[0m\u001b[0;34m\u001b[0m\u001b[0m\n\u001b[0m\u001b[1;32m     10\u001b[0m \u001b[0moptimizer\u001b[0m \u001b[0;34m=\u001b[0m \u001b[0mtorch\u001b[0m\u001b[0;34m.\u001b[0m\u001b[0moptim\u001b[0m\u001b[0;34m.\u001b[0m\u001b[0mAdam\u001b[0m\u001b[0;34m(\u001b[0m\u001b[0mmodel\u001b[0m\u001b[0;34m.\u001b[0m\u001b[0mparameters\u001b[0m\u001b[0;34m,\u001b[0m \u001b[0mlr\u001b[0m \u001b[0;34m=\u001b[0m \u001b[0;36m0.001\u001b[0m\u001b[0;34m)\u001b[0m\u001b[0;34m\u001b[0m\u001b[0;34m\u001b[0m\u001b[0m\n",
      "\u001b[0;32m<ipython-input-42-f5ee2b68c0b9>\u001b[0m in \u001b[0;36m__init__\u001b[0;34m(self, x_p, x_n, adj)\u001b[0m\n\u001b[1;32m      5\u001b[0m     \u001b[0mself\u001b[0m\u001b[0;34m.\u001b[0m\u001b[0mx_n\u001b[0m \u001b[0;34m=\u001b[0m \u001b[0mx_n\u001b[0m\u001b[0;34m\u001b[0m\u001b[0;34m\u001b[0m\u001b[0m\n\u001b[1;32m      6\u001b[0m     \u001b[0mself\u001b[0m\u001b[0;34m.\u001b[0m\u001b[0madj\u001b[0m \u001b[0;34m=\u001b[0m \u001b[0madj\u001b[0m\u001b[0;34m\u001b[0m\u001b[0;34m\u001b[0m\u001b[0m\n\u001b[0;32m----> 7\u001b[0;31m     \u001b[0mself\u001b[0m\u001b[0;34m.\u001b[0m\u001b[0mencoder\u001b[0m \u001b[0;34m=\u001b[0m \u001b[0mGCN\u001b[0m\u001b[0;34m(\u001b[0m\u001b[0mself\u001b[0m\u001b[0;34m.\u001b[0m\u001b[0mx_p\u001b[0m\u001b[0;34m,\u001b[0m\u001b[0mself\u001b[0m\u001b[0;34m.\u001b[0m\u001b[0madj\u001b[0m\u001b[0;34m)\u001b[0m\u001b[0;34m\u001b[0m\u001b[0;34m\u001b[0m\u001b[0m\n\u001b[0m\u001b[1;32m      8\u001b[0m     \u001b[0mself\u001b[0m\u001b[0;34m.\u001b[0m\u001b[0mreadout\u001b[0m \u001b[0;34m=\u001b[0m \u001b[0mReadout\u001b[0m\u001b[0;34m(\u001b[0m\u001b[0;34m)\u001b[0m\u001b[0;34m\u001b[0m\u001b[0;34m\u001b[0m\u001b[0m\n\u001b[1;32m      9\u001b[0m     \u001b[0mself\u001b[0m\u001b[0;34m.\u001b[0m\u001b[0mdiscriminator\u001b[0m \u001b[0;34m=\u001b[0m \u001b[0mDiscriminator\u001b[0m\u001b[0;34m(\u001b[0m\u001b[0;34m)\u001b[0m\u001b[0;34m\u001b[0m\u001b[0;34m\u001b[0m\u001b[0m\n",
      "\u001b[0;32m<ipython-input-33-04b5863fb02c>\u001b[0m in \u001b[0;36m__init__\u001b[0;34m(self, input, output)\u001b[0m\n\u001b[1;32m      2\u001b[0m   \u001b[0;32mdef\u001b[0m \u001b[0m__init__\u001b[0m\u001b[0;34m(\u001b[0m\u001b[0mself\u001b[0m\u001b[0;34m,\u001b[0m \u001b[0minput\u001b[0m\u001b[0;34m,\u001b[0m \u001b[0moutput\u001b[0m\u001b[0;34m)\u001b[0m\u001b[0;34m:\u001b[0m\u001b[0;34m\u001b[0m\u001b[0;34m\u001b[0m\u001b[0m\n\u001b[1;32m      3\u001b[0m     \u001b[0msuper\u001b[0m\u001b[0;34m(\u001b[0m\u001b[0mGCN\u001b[0m\u001b[0;34m,\u001b[0m \u001b[0mself\u001b[0m\u001b[0;34m)\u001b[0m\u001b[0;34m.\u001b[0m\u001b[0m__init__\u001b[0m\u001b[0;34m(\u001b[0m\u001b[0;34m)\u001b[0m\u001b[0;34m\u001b[0m\u001b[0;34m\u001b[0m\u001b[0m\n\u001b[0;32m----> 4\u001b[0;31m     \u001b[0mself\u001b[0m\u001b[0;34m.\u001b[0m\u001b[0mfc\u001b[0m \u001b[0;34m=\u001b[0m \u001b[0mnn\u001b[0m\u001b[0;34m.\u001b[0m\u001b[0mLinear\u001b[0m\u001b[0;34m(\u001b[0m\u001b[0minput\u001b[0m\u001b[0;34m,\u001b[0m \u001b[0moutput\u001b[0m\u001b[0;34m,\u001b[0m \u001b[0mbias\u001b[0m \u001b[0;34m=\u001b[0m \u001b[0;32mFalse\u001b[0m\u001b[0;34m)\u001b[0m\u001b[0;34m\u001b[0m\u001b[0;34m\u001b[0m\u001b[0m\n\u001b[0m\u001b[1;32m      5\u001b[0m     \u001b[0mself\u001b[0m\u001b[0;34m.\u001b[0m\u001b[0mactivation\u001b[0m \u001b[0;34m=\u001b[0m \u001b[0mnn\u001b[0m\u001b[0;34m.\u001b[0m\u001b[0mPReLU\u001b[0m\u001b[0;34m(\u001b[0m\u001b[0;34m)\u001b[0m\u001b[0;34m\u001b[0m\u001b[0;34m\u001b[0m\u001b[0m\n\u001b[1;32m      6\u001b[0m     \u001b[0mnn\u001b[0m\u001b[0;34m.\u001b[0m\u001b[0minit\u001b[0m\u001b[0;34m.\u001b[0m\u001b[0mxavier_uniform\u001b[0m\u001b[0;34m(\u001b[0m\u001b[0mself\u001b[0m\u001b[0;34m.\u001b[0m\u001b[0mfc\u001b[0m\u001b[0;34m.\u001b[0m\u001b[0mweight\u001b[0m\u001b[0;34m.\u001b[0m\u001b[0mdata\u001b[0m\u001b[0;34m)\u001b[0m\u001b[0;34m\u001b[0m\u001b[0;34m\u001b[0m\u001b[0m\n",
      "\u001b[0;32m/usr/local/lib/python3.8/dist-packages/torch/nn/modules/linear.py\u001b[0m in \u001b[0;36m__init__\u001b[0;34m(self, in_features, out_features, bias, device, dtype)\u001b[0m\n\u001b[1;32m     94\u001b[0m         \u001b[0mself\u001b[0m\u001b[0;34m.\u001b[0m\u001b[0min_features\u001b[0m \u001b[0;34m=\u001b[0m \u001b[0min_features\u001b[0m\u001b[0;34m\u001b[0m\u001b[0;34m\u001b[0m\u001b[0m\n\u001b[1;32m     95\u001b[0m         \u001b[0mself\u001b[0m\u001b[0;34m.\u001b[0m\u001b[0mout_features\u001b[0m \u001b[0;34m=\u001b[0m \u001b[0mout_features\u001b[0m\u001b[0;34m\u001b[0m\u001b[0;34m\u001b[0m\u001b[0m\n\u001b[0;32m---> 96\u001b[0;31m         \u001b[0mself\u001b[0m\u001b[0;34m.\u001b[0m\u001b[0mweight\u001b[0m \u001b[0;34m=\u001b[0m \u001b[0mParameter\u001b[0m\u001b[0;34m(\u001b[0m\u001b[0mtorch\u001b[0m\u001b[0;34m.\u001b[0m\u001b[0mempty\u001b[0m\u001b[0;34m(\u001b[0m\u001b[0;34m(\u001b[0m\u001b[0mout_features\u001b[0m\u001b[0;34m,\u001b[0m \u001b[0min_features\u001b[0m\u001b[0;34m)\u001b[0m\u001b[0;34m,\u001b[0m \u001b[0;34m**\u001b[0m\u001b[0mfactory_kwargs\u001b[0m\u001b[0;34m)\u001b[0m\u001b[0;34m)\u001b[0m\u001b[0;34m\u001b[0m\u001b[0;34m\u001b[0m\u001b[0m\n\u001b[0m\u001b[1;32m     97\u001b[0m         \u001b[0;32mif\u001b[0m \u001b[0mbias\u001b[0m\u001b[0;34m:\u001b[0m\u001b[0;34m\u001b[0m\u001b[0;34m\u001b[0m\u001b[0m\n\u001b[1;32m     98\u001b[0m             \u001b[0mself\u001b[0m\u001b[0;34m.\u001b[0m\u001b[0mbias\u001b[0m \u001b[0;34m=\u001b[0m \u001b[0mParameter\u001b[0m\u001b[0;34m(\u001b[0m\u001b[0mtorch\u001b[0m\u001b[0;34m.\u001b[0m\u001b[0mempty\u001b[0m\u001b[0;34m(\u001b[0m\u001b[0mout_features\u001b[0m\u001b[0;34m,\u001b[0m \u001b[0;34m**\u001b[0m\u001b[0mfactory_kwargs\u001b[0m\u001b[0;34m)\u001b[0m\u001b[0;34m)\u001b[0m\u001b[0;34m\u001b[0m\u001b[0;34m\u001b[0m\u001b[0m\n",
      "\u001b[0;31mTypeError\u001b[0m: empty() received an invalid combination of arguments - got (tuple, dtype=NoneType, device=NoneType), but expected one of:\n * (tuple of ints size, *, tuple of names names, torch.memory_format memory_format, torch.dtype dtype, torch.layout layout, torch.device device, bool pin_memory, bool requires_grad)\n * (tuple of SymInts size, *, torch.memory_format memory_format, Tensor out, torch.dtype dtype, torch.layout layout, torch.device device, bool pin_memory, bool requires_grad)\n"
     ]
    }
   ],
   "source": [
    "from torch_geometric.utils import to_dense_adj\n",
    "data = dataset[0]\n",
    "epochs = 10\n",
    "n_features = 512\n",
    "x_p = data.x\n",
    "x_n = data.y\n",
    "adj = to_dense_adj(data.edge_index)\n",
    "\n",
    "loss = nn.BCEWithLogitsLoss()\n",
    "model = DGI(x_p,x_n,adj).cuda()\n",
    "optimizer = torch.optim.Adam(model.parameters, lr = 0.001)"
   ]
  },
  {
   "cell_type": "code",
   "execution_count": 29,
   "metadata": {
    "colab": {
     "base_uri": "https://localhost:8080/"
    },
    "executionInfo": {
     "elapsed": 5,
     "status": "ok",
     "timestamp": 1675427585882,
     "user": {
      "displayName": "안중찬",
      "userId": "08828478468558364799"
     },
     "user_tz": -540
    },
    "id": "fgsOZVs2QcwX",
    "outputId": "9df442dd-b5cc-4cbc-c7e1-ed322fa7c25a"
   },
   "outputs": [
    {
     "data": {
      "text/plain": [
       "1"
      ]
     },
     "execution_count": 29,
     "metadata": {},
     "output_type": "execute_result"
    }
   ],
   "source": []
  },
  {
   "cell_type": "code",
   "execution_count": null,
   "metadata": {
    "id": "D7iaZ7N7Q_3T"
   },
   "outputs": [],
   "source": []
  }
 ],
 "metadata": {
  "accelerator": "GPU",
  "colab": {
   "authorship_tag": "ABX9TyMnXCCekpf9T+pk66TUuEKH",
   "provenance": []
  },
  "gpuClass": "standard",
  "kernelspec": {
   "display_name": "Python 3 (ipykernel)",
   "language": "python",
   "name": "python3"
  },
  "language_info": {
   "codemirror_mode": {
    "name": "ipython",
    "version": 3
   },
   "file_extension": ".py",
   "mimetype": "text/x-python",
   "name": "python",
   "nbconvert_exporter": "python",
   "pygments_lexer": "ipython3",
   "version": "3.9.7"
  }
 },
 "nbformat": 4,
 "nbformat_minor": 1
}
