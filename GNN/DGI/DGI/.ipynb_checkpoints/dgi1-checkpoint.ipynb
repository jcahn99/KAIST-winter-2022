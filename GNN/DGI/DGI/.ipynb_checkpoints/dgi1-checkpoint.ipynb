{
 "cells": [
  {
   "cell_type": "code",
   "execution_count": 78,
   "id": "edd64a45",
   "metadata": {},
   "outputs": [],
   "source": [
    "import numpy as np\n",
    "import torch\n",
    "import torch.nn as nn\n",
    "import torch.nn.functional as F\n",
    "from torch_geometric.datasets import Planetoid\n",
    "from torch_geometric.data import Data\n",
    "from torch_geometric.nn import GCNConv"
   ]
  },
  {
   "cell_type": "code",
   "execution_count": 109,
   "id": "dd32951a",
   "metadata": {},
   "outputs": [],
   "source": [
    "class DGI(nn.Module):\n",
    "    def __init__(self, x, edge_index, dimensions):\n",
    "        super(DGI, self).__init__()\n",
    "        data = Data(x, edge_index)\n",
    "        self.x = data.x\n",
    "        self.edge_index = data.edge_index\n",
    "        self.dim = dimensions\n",
    "        \n",
    "        self.h_pos = nn.Parameter(torch.Tensor(data.num_node_features, data.num_nodes))\n",
    "        self.h_neg = nn.Parameter(torch.Tensor(data.num_node_features, data.num_nodes))\n",
    "        self.weight = nn.Parameter(torch.Tensor(self.dim, self.dim))\n",
    "        #nn.Parameter(self.h_pos, self.h_neg, self.summary, self.weight)\n",
    "        \n",
    "    def GCNlayer(self):\n",
    "        self.model = GCNConv(self.x, self.edge_index)\n",
    "        return nn.PReLU(self.model)\n",
    "        \n",
    "    def summary(self, h):\n",
    "        return torch.mean(h, dim = 0)\n",
    "    \n",
    "    def corruption(self):\n",
    "        return self.x[torch.randperm(self.x.size(0))], self.edge_index\n",
    "    \n",
    "    def discriminator(self, h, summary):\n",
    "        value = torch.matmul(h, torch.matmul(self.weight, summary))\n",
    "        return torch.sigmoid(value)\n",
    "    \n",
    "    def loss(self):\n",
    "        loss_pos = -torch.log(self.discriminator(self.h_pos, self.summary)).mean()\n",
    "        loss_neg = -torch.log(1 - self.discriminator(self.h_neg, self,summary)).mean()\n",
    "        return (loss_pos + loss_neg).mean()\n",
    "    \n",
    "    def forward(self):\n",
    "        h_pos = self.GCNlayer(self.h_pos, self.edge_index)\n",
    "        x_neg = self.corruption(self.x, self.edge_index)\n",
    "        h_neg = self.GCNlayer(self.h_neg, self.edge_index)\n",
    "        summary = self.summary(self.h_pos)\n",
    "        return h_pos, h_neg, summary     \n",
    "    \n",
    "   "
   ]
  },
  {
   "cell_type": "code",
   "execution_count": 110,
   "id": "c0bdeccf",
   "metadata": {},
   "outputs": [],
   "source": [
    "def train():\n",
    "    model.train()\n",
    "    optimizer.zero_grad()\n",
    "    h_pos, h_neg, summary = model(data.x, data.edge_index)\n",
    "    loss = model.loss(h_pos, h_neg, summary)\n",
    "    loss.backward()\n",
    "    optimizer.step()\n",
    "    return loss.item()"
   ]
  },
  {
   "cell_type": "code",
   "execution_count": 111,
   "id": "b41b9488",
   "metadata": {},
   "outputs": [
    {
     "ename": "AttributeError",
     "evalue": "'DGI' object has no attribute 'parameter'",
     "output_type": "error",
     "traceback": [
      "\u001b[1;31m---------------------------------------------------------------------------\u001b[0m",
      "\u001b[1;31mAttributeError\u001b[0m                            Traceback (most recent call last)",
      "\u001b[1;32m~\\AppData\\Local\\Temp/ipykernel_23236/458614906.py\u001b[0m in \u001b[0;36m<module>\u001b[1;34m\u001b[0m\n\u001b[0;32m      1\u001b[0m \u001b[0mdevice\u001b[0m \u001b[1;33m=\u001b[0m \u001b[0mtorch\u001b[0m\u001b[1;33m.\u001b[0m\u001b[0mdevice\u001b[0m\u001b[1;33m(\u001b[0m\u001b[1;34m'cuda'\u001b[0m \u001b[1;32mif\u001b[0m \u001b[0mtorch\u001b[0m\u001b[1;33m.\u001b[0m\u001b[0mcuda\u001b[0m\u001b[1;33m.\u001b[0m\u001b[0mis_available\u001b[0m\u001b[1;33m(\u001b[0m\u001b[1;33m)\u001b[0m \u001b[1;32melse\u001b[0m \u001b[1;34m'cpu'\u001b[0m\u001b[1;33m)\u001b[0m\u001b[1;33m\u001b[0m\u001b[1;33m\u001b[0m\u001b[0m\n\u001b[0;32m      2\u001b[0m \u001b[0mmodel\u001b[0m \u001b[1;33m=\u001b[0m \u001b[0mDGI\u001b[0m\u001b[1;33m(\u001b[0m\u001b[0mdata\u001b[0m\u001b[1;33m.\u001b[0m\u001b[0mx\u001b[0m\u001b[1;33m,\u001b[0m \u001b[0mdata\u001b[0m\u001b[1;33m.\u001b[0m\u001b[0medge_index\u001b[0m\u001b[1;33m,\u001b[0m \u001b[1;36m512\u001b[0m\u001b[1;33m)\u001b[0m\u001b[1;33m.\u001b[0m\u001b[0mto\u001b[0m\u001b[1;33m(\u001b[0m\u001b[0mdevice\u001b[0m\u001b[1;33m)\u001b[0m\u001b[1;33m\u001b[0m\u001b[1;33m\u001b[0m\u001b[0m\n\u001b[1;32m----> 3\u001b[1;33m \u001b[0moptimizer\u001b[0m \u001b[1;33m=\u001b[0m \u001b[0mtorch\u001b[0m\u001b[1;33m.\u001b[0m\u001b[0moptim\u001b[0m\u001b[1;33m.\u001b[0m\u001b[0mAdam\u001b[0m\u001b[1;33m(\u001b[0m\u001b[0mmodel\u001b[0m\u001b[1;33m.\u001b[0m\u001b[0mparameter\u001b[0m\u001b[1;33m(\u001b[0m\u001b[1;33m)\u001b[0m\u001b[1;33m,\u001b[0m \u001b[0mlr\u001b[0m \u001b[1;33m=\u001b[0m \u001b[1;36m0.001\u001b[0m\u001b[1;33m)\u001b[0m\u001b[1;33m\u001b[0m\u001b[1;33m\u001b[0m\u001b[0m\n\u001b[0m",
      "\u001b[1;32m~\\anaconda3\\lib\\site-packages\\torch\\nn\\modules\\module.py\u001b[0m in \u001b[0;36m__getattr__\u001b[1;34m(self, name)\u001b[0m\n\u001b[0;32m   1267\u001b[0m             \u001b[1;32mif\u001b[0m \u001b[0mname\u001b[0m \u001b[1;32min\u001b[0m \u001b[0mmodules\u001b[0m\u001b[1;33m:\u001b[0m\u001b[1;33m\u001b[0m\u001b[1;33m\u001b[0m\u001b[0m\n\u001b[0;32m   1268\u001b[0m                 \u001b[1;32mreturn\u001b[0m \u001b[0mmodules\u001b[0m\u001b[1;33m[\u001b[0m\u001b[0mname\u001b[0m\u001b[1;33m]\u001b[0m\u001b[1;33m\u001b[0m\u001b[1;33m\u001b[0m\u001b[0m\n\u001b[1;32m-> 1269\u001b[1;33m         raise AttributeError(\"'{}' object has no attribute '{}'\".format(\n\u001b[0m\u001b[0;32m   1270\u001b[0m             type(self).__name__, name))\n\u001b[0;32m   1271\u001b[0m \u001b[1;33m\u001b[0m\u001b[0m\n",
      "\u001b[1;31mAttributeError\u001b[0m: 'DGI' object has no attribute 'parameter'"
     ]
    }
   ],
   "source": [
    "device = torch.device('cuda' if torch.cuda.is_available() else 'cpu')\n",
    "model = DGI(data.x, data.edge_index, 512).to(device)\n",
    "optimizer = torch.optim.Adam(model.parameter(), lr = 0.001)"
   ]
  },
  {
   "cell_type": "code",
   "execution_count": 101,
   "id": "47d36f7f",
   "metadata": {},
   "outputs": [
    {
     "name": "stdout",
     "output_type": "stream",
     "text": [
      "<bound method Module.parameters of DGI()>\n"
     ]
    }
   ],
   "source": [
    "print(model.parameters)"
   ]
  },
  {
   "cell_type": "code",
   "execution_count": 102,
   "id": "1c153a05",
   "metadata": {},
   "outputs": [
    {
     "name": "stdout",
     "output_type": "stream",
     "text": [
      "<bound method Module.parameters of DGI()>\n"
     ]
    }
   ],
   "source": [
    "print(model.parameters)"
   ]
  },
  {
   "cell_type": "code",
   "execution_count": null,
   "id": "68505f92",
   "metadata": {},
   "outputs": [],
   "source": []
  },
  {
   "cell_type": "code",
   "execution_count": 6,
   "id": "6cb74ded",
   "metadata": {},
   "outputs": [],
   "source": [
    "import torch_geometric.utils as util"
   ]
  },
  {
   "cell_type": "code",
   "execution_count": 7,
   "id": "919d7db0",
   "metadata": {},
   "outputs": [],
   "source": [
    "dataset = Planetoid(root='/tmp/Cora', name='Cora')\n",
    "data = dataset[0]\n",
    "\n",
    "class GCN(nn.Module):\n",
    "    def __init__(self, X, A, D, dimension):\n",
    "        super(self, GCN).__init__()\n",
    "        self.X = data.x\n",
    "        self.A = util.to_dense_adj(util.add_self_loops(data.edge_index))\n",
    "        self.D = util.to_dense_adj(util.degree(util.add_self_loops(data.edge_index)))\n",
    "        self.dim = dimension\n",
    "        \n",
    "    def forward(self):\n",
    "        weight = torch.rand(self.dim, self.dim)\n",
    "        @\n",
    "        \n",
    "        "
   ]
  },
  {
   "cell_type": "code",
   "execution_count": null,
   "id": "a18cd904",
   "metadata": {},
   "outputs": [],
   "source": []
  }
 ],
 "metadata": {
  "kernelspec": {
   "display_name": "Python 3 (ipykernel)",
   "language": "python",
   "name": "python3"
  },
  "language_info": {
   "codemirror_mode": {
    "name": "ipython",
    "version": 3
   },
   "file_extension": ".py",
   "mimetype": "text/x-python",
   "name": "python",
   "nbconvert_exporter": "python",
   "pygments_lexer": "ipython3",
   "version": "3.9.7"
  }
 },
 "nbformat": 4,
 "nbformat_minor": 5
}
