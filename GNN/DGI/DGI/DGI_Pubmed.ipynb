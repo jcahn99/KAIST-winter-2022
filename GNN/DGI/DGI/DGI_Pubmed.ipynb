{
 "cells": [
  {
   "cell_type": "code",
   "execution_count": 1,
   "id": "a473bee0",
   "metadata": {},
   "outputs": [],
   "source": [
    "import torch\n",
    "import torch.nn as nn\n",
    "import torch.nn.functional as Fk\n",
    "from torch_geometric.nn import DeepGraphInfomax, GCNConv\n",
    "from torch_geometric.datasets import Planetoid\n",
    "import numpy as np"
   ]
  },
  {
   "cell_type": "code",
   "execution_count": 3,
   "id": "ad7cd608",
   "metadata": {},
   "outputs": [
    {
     "data": {
      "text/plain": [
       "1"
      ]
     },
     "execution_count": 3,
     "metadata": {},
     "output_type": "execute_result"
    }
   ],
   "source": [
    "len(dataset)"
   ]
  },
  {
   "cell_type": "code",
   "execution_count": 4,
   "id": "76912537",
   "metadata": {},
   "outputs": [],
   "source": [
    "dataset = Planetoid(root='/tmp/Pubmed', name='Pubmed')\n",
    "data = dataset[0]"
   ]
  },
  {
   "cell_type": "code",
   "execution_count": 5,
   "id": "45fddab1",
   "metadata": {},
   "outputs": [],
   "source": [
    "class GCN(nn.Module):\n",
    "    def __init__(self, ft_in, n_fts):\n",
    "        super(GCN, self).__init__()\n",
    "        self.conv = GCNConv(ft_in, n_fts)\n",
    "        self.act = nn.PReLU(n_fts)\n",
    "        \n",
    "    def forward(self, x, edge_index):\n",
    "        x = self.conv(x, edge_index)\n",
    "        x = self.act(x)\n",
    "        return x"
   ]
  },
  {
   "cell_type": "code",
   "execution_count": 6,
   "id": "88005740",
   "metadata": {},
   "outputs": [],
   "source": [
    "def corruption(x, edge_index):\n",
    "    return x[torch.randperm(x.size(0))], edge_index"
   ]
  },
  {
   "cell_type": "code",
   "execution_count": 7,
   "id": "980c6670",
   "metadata": {},
   "outputs": [],
   "source": [
    "def readout(h, *args, **kwargs):\n",
    "    return torch.mean(h, dim=0)"
   ]
  },
  {
   "cell_type": "code",
   "execution_count": 8,
   "id": "7a241feb",
   "metadata": {},
   "outputs": [],
   "source": [
    "device = torch.device('cuda' if torch.cuda.is_available() else 'cpu')\n",
    "model = DeepGraphInfomax(hidden_channels=512, encoder=GCN(data.num_features, 512), summary=readout, corruption=corruption).to(device)\n",
    "optimizer = torch.optim.Adam(model.parameters(), lr = 0.001)"
   ]
  },
  {
   "cell_type": "code",
   "execution_count": 9,
   "id": "3b73eb7b",
   "metadata": {},
   "outputs": [],
   "source": [
    "def train():\n",
    "    model.train()\n",
    "    optimizer.zero_grad()\n",
    "    pos_z, neg_z, summary = model(data.x, data.edge_index)\n",
    "    loss = model.loss(pos_z, neg_z, summary)\n",
    "    loss.backward()\n",
    "    optimizer.step()\n",
    "    return loss.item()"
   ]
  },
  {
   "cell_type": "code",
   "execution_count": 10,
   "id": "cec14d74",
   "metadata": {},
   "outputs": [],
   "source": [
    "def test():\n",
    "    model.eval()\n",
    "    z, _, _ = model(data.x, data.edge_index)\n",
    "    acc = model.test(\n",
    "    z[data.train_mask],data.y[data.train_mask],z[data.test_mask],data.y[data.test_mask],max_iter=10)\n",
    "    return acc"
   ]
  },
  {
   "cell_type": "code",
   "execution_count": 11,
   "id": "6d9d10f3",
   "metadata": {},
   "outputs": [
    {
     "name": "stdout",
     "output_type": "stream",
     "text": [
      "Epoch: 10, Loss: 1.3811\n",
      "Epoch: 20, Loss: 1.3460\n",
      "Epoch: 30, Loss: 1.2444\n",
      "Epoch: 40, Loss: 1.0822\n",
      "Epoch: 50, Loss: 0.9635\n",
      "Epoch: 60, Loss: 0.9102\n",
      "Epoch: 70, Loss: 0.8739\n",
      "Epoch: 80, Loss: 0.8437\n",
      "Epoch: 90, Loss: 0.8260\n",
      "Epoch: 100, Loss: 0.8061\n",
      "Accuracy: 0.7160\n"
     ]
    },
    {
     "name": "stderr",
     "output_type": "stream",
     "text": [
      "C:\\Users\\ahn\\anaconda3\\lib\\site-packages\\sklearn\\linear_model\\_logistic.py:763: ConvergenceWarning: lbfgs failed to converge (status=1):\n",
      "STOP: TOTAL NO. of ITERATIONS REACHED LIMIT.\n",
      "\n",
      "Increase the number of iterations (max_iter) or scale the data as shown in:\n",
      "    https://scikit-learn.org/stable/modules/preprocessing.html\n",
      "Please also refer to the documentation for alternative solver options:\n",
      "    https://scikit-learn.org/stable/modules/linear_model.html#logistic-regression\n",
      "  n_iter_i = _check_optimize_result(\n"
     ]
    }
   ],
   "source": [
    "for epoch in range(100):\n",
    "    loss = train()\n",
    "    if ((epoch+1) % 10) == 0:\n",
    "        print(\"Epoch: {:d}, Loss: {:.4f}\".format(epoch+1, loss))\n",
    "acc = test()\n",
    "print(\"Accuracy: {:.4f}\".format(acc))"
   ]
  },
  {
   "cell_type": "code",
   "execution_count": null,
   "id": "09492f6a",
   "metadata": {},
   "outputs": [],
   "source": []
  },
  {
   "cell_type": "code",
   "execution_count": null,
   "id": "e66e20a1",
   "metadata": {},
   "outputs": [],
   "source": []
  },
  {
   "cell_type": "code",
   "execution_count": null,
   "id": "993ec1a4",
   "metadata": {},
   "outputs": [],
   "source": []
  }
 ],
 "metadata": {
  "kernelspec": {
   "display_name": "Python 3 (ipykernel)",
   "language": "python",
   "name": "python3"
  },
  "language_info": {
   "codemirror_mode": {
    "name": "ipython",
    "version": 3
   },
   "file_extension": ".py",
   "mimetype": "text/x-python",
   "name": "python",
   "nbconvert_exporter": "python",
   "pygments_lexer": "ipython3",
   "version": "3.9.7"
  }
 },
 "nbformat": 4,
 "nbformat_minor": 5
}
