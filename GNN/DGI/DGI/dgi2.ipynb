{
 "cells": [
  {
   "cell_type": "code",
   "execution_count": 2,
   "metadata": {
    "colab": {
     "base_uri": "https://localhost:8080/"
    },
    "executionInfo": {
     "elapsed": 7397,
     "status": "ok",
     "timestamp": 1675422919152,
     "user": {
      "displayName": "안중찬",
      "userId": "08828478468558364799"
     },
     "user_tz": -540
    },
    "id": "zNucHDcO2rGc",
    "outputId": "b1f040f1-0d17-48f3-c837-338611e99a1b"
   },
   "outputs": [
    {
     "name": "stdout",
     "output_type": "stream",
     "text": [
      "1.13.1\n"
     ]
    }
   ],
   "source": [
    "import torch; print(torch.__version__)"
   ]
  },
  {
   "cell_type": "code",
   "execution_count": 3,
   "metadata": {
    "colab": {
     "base_uri": "https://localhost:8080/",
     "height": 718
    },
    "executionInfo": {
     "elapsed": 12450,
     "status": "ok",
     "timestamp": 1675422931596,
     "user": {
      "displayName": "안중찬",
      "userId": "08828478468558364799"
     },
     "user_tz": -540
    },
    "id": "_19yAmT221D5",
    "outputId": "27a027df-5729-4114-ee38-65b5a4b257d3"
   },
   "outputs": [
    {
     "name": "stdout",
     "output_type": "stream",
     "text": [
      "Requirement already satisfied: torch_geometric in c:\\users\\ahn\\anaconda3\\lib\\site-packages (2.2.0)\n",
      "Requirement already satisfied: numpy in c:\\users\\ahn\\anaconda3\\lib\\site-packages (from torch_geometric) (1.20.3)\n",
      "Requirement already satisfied: tqdm in c:\\users\\ahn\\anaconda3\\lib\\site-packages (from torch_geometric) (4.64.1)\n",
      "Requirement already satisfied: scikit-learn in c:\\users\\ahn\\anaconda3\\lib\\site-packages (from torch_geometric) (0.24.2)\n",
      "Requirement already satisfied: scipy in c:\\users\\ahn\\anaconda3\\lib\\site-packages (from torch_geometric) (1.7.1)\n",
      "Requirement already satisfied: psutil>=5.8.0 in c:\\users\\ahn\\anaconda3\\lib\\site-packages (from torch_geometric) (5.8.0)\n",
      "Requirement already satisfied: requests in c:\\users\\ahn\\anaconda3\\lib\\site-packages (from torch_geometric) (2.26.0)\n",
      "Requirement already satisfied: pyparsing in c:\\users\\ahn\\anaconda3\\lib\\site-packages (from torch_geometric) (3.0.4)\n",
      "Requirement already satisfied: jinja2 in c:\\users\\ahn\\anaconda3\\lib\\site-packages (from torch_geometric) (2.11.3)\n",
      "Requirement already satisfied: MarkupSafe>=0.23 in c:\\users\\ahn\\anaconda3\\lib\\site-packages (from jinja2->torch_geometric) (1.1.1)\n",
      "Requirement already satisfied: certifi>=2017.4.17 in c:\\users\\ahn\\anaconda3\\lib\\site-packages (from requests->torch_geometric) (2022.12.7)\n",
      "Requirement already satisfied: urllib3<1.27,>=1.21.1 in c:\\users\\ahn\\anaconda3\\lib\\site-packages (from requests->torch_geometric) (1.26.7)\n",
      "Requirement already satisfied: charset-normalizer~=2.0.0 in c:\\users\\ahn\\anaconda3\\lib\\site-packages (from requests->torch_geometric) (2.0.4)\n",
      "Requirement already satisfied: idna<4,>=2.5 in c:\\users\\ahn\\anaconda3\\lib\\site-packages (from requests->torch_geometric) (3.2)\n",
      "Requirement already satisfied: threadpoolctl>=2.0.0 in c:\\users\\ahn\\anaconda3\\lib\\site-packages (from scikit-learn->torch_geometric) (2.2.0)\n",
      "Requirement already satisfied: joblib>=0.11 in c:\\users\\ahn\\anaconda3\\lib\\site-packages (from scikit-learn->torch_geometric) (1.1.0)\n",
      "Requirement already satisfied: colorama in c:\\users\\ahn\\anaconda3\\lib\\site-packages (from tqdm->torch_geometric) (0.4.4)\n",
      "Note: you may need to restart the kernel to use updated packages.\n"
     ]
    },
    {
     "name": "stderr",
     "output_type": "stream",
     "text": [
      "WARNING: Ignoring invalid distribution -ffi (c:\\users\\ahn\\anaconda3\\lib\\site-packages)\n",
      "WARNING: Ignoring invalid distribution -ffi (c:\\users\\ahn\\anaconda3\\lib\\site-packages)\n",
      "WARNING: Ignoring invalid distribution -ffi (c:\\users\\ahn\\anaconda3\\lib\\site-packages)\n",
      "WARNING: Ignoring invalid distribution -ffi (c:\\users\\ahn\\anaconda3\\lib\\site-packages)\n",
      "WARNING: Ignoring invalid distribution -ffi (c:\\users\\ahn\\anaconda3\\lib\\site-packages)\n",
      "WARNING: Ignoring invalid distribution -ffi (c:\\users\\ahn\\anaconda3\\lib\\site-packages)\n"
     ]
    }
   ],
   "source": [
    "pip install torch_geometric"
   ]
  },
  {
   "cell_type": "code",
   "execution_count": 5,
   "metadata": {
    "colab": {
     "base_uri": "https://localhost:8080/"
    },
    "executionInfo": {
     "elapsed": 4907,
     "status": "ok",
     "timestamp": 1675422939637,
     "user": {
      "displayName": "안중찬",
      "userId": "08828478468558364799"
     },
     "user_tz": -540
    },
    "id": "tiVZW9UfASTP",
    "outputId": "b881d168-b58d-4ce5-b448-32fc5d1b159b"
   },
   "outputs": [
    {
     "name": "stdout",
     "output_type": "stream",
     "text": [
      "Looking in links: https://data.pyg.org/whl/torch-1.13.1+cpu.htmlNote: you may need to restart the kernel to use updated packages.\n",
      "Collecting torch-scatter\n",
      "  Downloading https://data.pyg.org/whl/torch-1.13.0%2Bcpu/torch_scatter-2.1.0%2Bpt113cpu-cp39-cp39-win_amd64.whl (496 kB)\n",
      "Collecting torch-sparse\n",
      "  Downloading https://data.pyg.org/whl/torch-1.13.0%2Bcpu/torch_sparse-0.6.16%2Bpt113cpu-cp39-cp39-win_amd64.whl (1.2 MB)\n",
      "Requirement already satisfied: scipy in c:\\users\\ahn\\anaconda3\\lib\\site-packages (from torch-sparse) (1.7.1)\n",
      "Requirement already satisfied: numpy<1.23.0,>=1.16.5 in c:\\users\\ahn\\anaconda3\\lib\\site-packages (from scipy->torch-sparse) (1.20.3)\n",
      "Installing collected packages: torch-sparse, torch-scatter\n",
      "Successfully installed torch-scatter-2.1.0+pt113cpu torch-sparse-0.6.16+pt113cpu\n",
      "\n"
     ]
    },
    {
     "name": "stderr",
     "output_type": "stream",
     "text": [
      "WARNING: Ignoring invalid distribution -ffi (c:\\users\\ahn\\anaconda3\\lib\\site-packages)\n",
      "WARNING: Ignoring invalid distribution -ffi (c:\\users\\ahn\\anaconda3\\lib\\site-packages)\n",
      "WARNING: Ignoring invalid distribution -ffi (c:\\users\\ahn\\anaconda3\\lib\\site-packages)\n",
      "WARNING: Ignoring invalid distribution -ffi (c:\\users\\ahn\\anaconda3\\lib\\site-packages)\n",
      "WARNING: Ignoring invalid distribution -ffi (c:\\users\\ahn\\anaconda3\\lib\\site-packages)\n",
      "WARNING: Ignoring invalid distribution -ffi (c:\\users\\ahn\\anaconda3\\lib\\site-packages)\n",
      "WARNING: Ignoring invalid distribution -ffi (c:\\users\\ahn\\anaconda3\\lib\\site-packages)\n",
      "WARNING: Ignoring invalid distribution -ffi (c:\\users\\ahn\\anaconda3\\lib\\site-packages)\n"
     ]
    }
   ],
   "source": [
    "pip install torch-scatter torch-sparse -f https://data.pyg.org/whl/torch-1.13.1+cpu.html"
   ]
  },
  {
   "cell_type": "code",
   "execution_count": 6,
   "metadata": {
    "executionInfo": {
     "elapsed": 1684,
     "status": "ok",
     "timestamp": 1675422941315,
     "user": {
      "displayName": "안중찬",
      "userId": "08828478468558364799"
     },
     "user_tz": -540
    },
    "id": "CoVJITEKKwyg"
   },
   "outputs": [],
   "source": [
    "from torch_geometric.datasets import Planetoid"
   ]
  },
  {
   "cell_type": "code",
   "execution_count": 7,
   "metadata": {
    "executionInfo": {
     "elapsed": 4,
     "status": "ok",
     "timestamp": 1675422957184,
     "user": {
      "displayName": "안중찬",
      "userId": "08828478468558364799"
     },
     "user_tz": -540
    },
    "id": "KKsZFhoeK3vw"
   },
   "outputs": [
    {
     "name": "stderr",
     "output_type": "stream",
     "text": [
      "Downloading https://github.com/kimiyoung/planetoid/raw/master/data/ind.cora.x\n",
      "Downloading https://github.com/kimiyoung/planetoid/raw/master/data/ind.cora.tx\n",
      "Downloading https://github.com/kimiyoung/planetoid/raw/master/data/ind.cora.allx\n",
      "Downloading https://github.com/kimiyoung/planetoid/raw/master/data/ind.cora.y\n",
      "Downloading https://github.com/kimiyoung/planetoid/raw/master/data/ind.cora.ty\n",
      "Downloading https://github.com/kimiyoung/planetoid/raw/master/data/ind.cora.ally\n",
      "Downloading https://github.com/kimiyoung/planetoid/raw/master/data/ind.cora.graph\n",
      "Downloading https://github.com/kimiyoung/planetoid/raw/master/data/ind.cora.test.index\n",
      "Processing...\n",
      "Done!\n"
     ]
    }
   ],
   "source": [
    "dataset = Planetoid(root = '/tmp/Cora', name = 'Cora')"
   ]
  },
  {
   "cell_type": "code",
   "execution_count": 8,
   "metadata": {
    "executionInfo": {
     "elapsed": 2,
     "status": "ok",
     "timestamp": 1675422964724,
     "user": {
      "displayName": "안중찬",
      "userId": "08828478468558364799"
     },
     "user_tz": -540
    },
    "id": "mBEtuBFoCgWJ"
   },
   "outputs": [],
   "source": [
    "data = dataset[0]"
   ]
  },
  {
   "cell_type": "code",
   "execution_count": 9,
   "metadata": {
    "colab": {
     "base_uri": "https://localhost:8080/"
    },
    "executionInfo": {
     "elapsed": 5,
     "status": "ok",
     "timestamp": 1675422989594,
     "user": {
      "displayName": "안중찬",
      "userId": "08828478468558364799"
     },
     "user_tz": -540
    },
    "id": "ERGyBs9jCgfn",
    "outputId": "886f5a19-b7b2-4203-ecc4-f689f27765ed"
   },
   "outputs": [
    {
     "name": "stdout",
     "output_type": "stream",
     "text": [
      "Data(x=[2708, 1433], edge_index=[2, 10556], y=[2708], train_mask=[2708], val_mask=[2708], test_mask=[2708])\n"
     ]
    }
   ],
   "source": [
    "print(data)"
   ]
  },
  {
   "cell_type": "code",
   "execution_count": 10,
   "metadata": {
    "executionInfo": {
     "elapsed": 324,
     "status": "ok",
     "timestamp": 1675422994171,
     "user": {
      "displayName": "안중찬",
      "userId": "08828478468558364799"
     },
     "user_tz": -540
    },
    "id": "Hy-Ac20ZLteZ"
   },
   "outputs": [],
   "source": [
    "import torch\n",
    "import torch.nn as nn\n",
    "import torch.nn.functional as F"
   ]
  },
  {
   "cell_type": "code",
   "execution_count": 11,
   "metadata": {
    "colab": {
     "base_uri": "https://localhost:8080/",
     "height": 35
    },
    "executionInfo": {
     "elapsed": 6,
     "status": "ok",
     "timestamp": 1675423090128,
     "user": {
      "displayName": "안중찬",
      "userId": "08828478468558364799"
     },
     "user_tz": -540
    },
    "id": "twIa9pyvd2dN",
    "outputId": "db9961b4-abe6-4923-f59c-dfa8a9173481"
   },
   "outputs": [
    {
     "data": {
      "text/plain": [
       "'\\nclass DGI(nn.Module):\\n  def __init__(self, ):\\n    super(DGI, self).__init__()\\n\\n  def encoder(self)\\n  \\n  def corruption(self)\\n  \\n  def discriminator(self)\\n  \\n  def readout(self)\\n  \\n  def forward(self)\\n  \\n  def main()\\n'"
      ]
     },
     "execution_count": 11,
     "metadata": {},
     "output_type": "execute_result"
    }
   ],
   "source": [
    "'''\n",
    "class DGI(nn.Module):\n",
    "  def __init__(self, ):\n",
    "    super(DGI, self).__init__()\n",
    "\n",
    "  def encoder(self)\n",
    "  \n",
    "  def corruption(self)\n",
    "  \n",
    "  def discriminator(self)\n",
    "  \n",
    "  def readout(self)\n",
    "  \n",
    "  def forward(self)\n",
    "  \n",
    "  def main()\n",
    "'''"
   ]
  },
  {
   "cell_type": "code",
   "execution_count": 28,
   "metadata": {
    "executionInfo": {
     "elapsed": 310,
     "status": "ok",
     "timestamp": 1675423690710,
     "user": {
      "displayName": "안중찬",
      "userId": "08828478468558364799"
     },
     "user_tz": -540
    },
    "id": "T-kCIQ6uFXay"
   },
   "outputs": [],
   "source": [
    "class Readout(nn.Module):\n",
    "    def __init__(self):\n",
    "        super(Readout, self).__init__()\n",
    "        self.sigmoid = nn.Sigmoid()\n",
    "\n",
    "    def forward(self, h):\n",
    "        return self.sigmoid(torch.mean(h, dim=0))"
   ]
  },
  {
   "cell_type": "code",
   "execution_count": 33,
   "metadata": {
    "executionInfo": {
     "elapsed": 2,
     "status": "ok",
     "timestamp": 1675425066530,
     "user": {
      "displayName": "안중찬",
      "userId": "08828478468558364799"
     },
     "user_tz": -540
    },
    "id": "z3qC-qdEFXdO"
   },
   "outputs": [],
   "source": [
    "class Discriminator(nn.Module):\n",
    "    def __init__(self):\n",
    "        super(Discriminator, self).__init__()\n",
    "        self.sigmoid = nn.Sigmoid()\n",
    "        self.W = nn.Bilinear(512, 512, 1, bias = False)\n",
    "        nn.init.xavier_uniform(self.W.weight.data)\n",
    "    \n",
    "    def forward(self,h,s):\n",
    "        return self.W(h,s)"
   ]
  },
  {
   "cell_type": "code",
   "execution_count": 31,
   "metadata": {
    "executionInfo": {
     "elapsed": 4,
     "status": "ok",
     "timestamp": 1675427915046,
     "user": {
      "displayName": "안중찬",
      "userId": "08828478468558364799"
     },
     "user_tz": -540
    },
    "id": "TQH0mwCJHDCI"
   },
   "outputs": [],
   "source": [
    "from torch_geometric.nn import GCNConv\n",
    "class GCN(nn.Module):\n",
    "    def __init__(self):\n",
    "        super(GCN, self).__init__()\n",
    "        self.gcn = GCNConv(dataset.num_node_features, 512)\n",
    "    \n",
    "    def forward(self, data):\n",
    "        x, edge_index = data.x, data.edge_index\n",
    "        x = self.gcn(x, edge_index)\n",
    "        x = F.prelu(x)\n",
    "        return x"
   ]
  },
  {
   "cell_type": "code",
   "execution_count": 21,
   "metadata": {
    "executionInfo": {
     "elapsed": 455,
     "status": "ok",
     "timestamp": 1675426358276,
     "user": {
      "displayName": "안중찬",
      "userId": "08828478468558364799"
     },
     "user_tz": -540
    },
    "id": "UnkVdIdFHDHM"
   },
   "outputs": [
    {
     "ename": "IndentationError",
     "evalue": "expected an indented block (Temp/ipykernel_20740/228388563.py, line 3)",
     "output_type": "error",
     "traceback": [
      "\u001b[1;36m  File \u001b[1;32m\"C:\\Users\\ahn\\AppData\\Local\\Temp/ipykernel_20740/228388563.py\"\u001b[1;36m, line \u001b[1;32m3\u001b[0m\n\u001b[1;33m    super(LogReg, self).__init__()\u001b[0m\n\u001b[1;37m    ^\u001b[0m\n\u001b[1;31mIndentationError\u001b[0m\u001b[1;31m:\u001b[0m expected an indented block\n"
     ]
    }
   ],
   "source": [
    "class LogReg(nn.Module):\n",
    "    def __init__(self):\n",
    "    super(LogReg, self).__init__()\n",
    "    self.fc = nn.Linear(ft_in, nb_classes)\n",
    "    nn.init.xavier_uniform(self.fc.weight.data)\n",
    "\n",
    "    def forward(self, x):\n",
    "    return self.fc(x)"
   ]
  },
  {
   "cell_type": "code",
   "execution_count": 35,
   "metadata": {
    "executionInfo": {
     "elapsed": 4,
     "status": "ok",
     "timestamp": 1675428336345,
     "user": {
      "displayName": "안중찬",
      "userId": "08828478468558364799"
     },
     "user_tz": -540
    },
    "id": "Rm73ttUaFXfW"
   },
   "outputs": [],
   "source": [
    "class DGI(nn.Module):\n",
    "    def __init__(self, x_p, x_n, adj):\n",
    "        super(DGI, self).__init__()\n",
    "        self.x_p = x_p\n",
    "        self.x_n = x_n\n",
    "        self.adj = adj\n",
    "        self.encoder = GCN()\n",
    "        self.readout = Readout()\n",
    "        self.discriminator = Discriminator()\n",
    "        self.sigmoid = nn.Sigmoid()\n",
    "\n",
    "    def forward(self, x_p, x_n, adj):\n",
    "        h_p = self.encoder(self.x_p, self.adj)\n",
    "        h_n = self.encoder(self.x_n, self.adj)\n",
    "        s = self.readout(h_p)\n",
    "        s = self.sigmoid(s)\n",
    "        score = self.discriminator(s, h_p, h_n)\n",
    "        return score"
   ]
  },
  {
   "cell_type": "code",
   "execution_count": 40,
   "metadata": {
    "colab": {
     "base_uri": "https://localhost:8080/",
     "height": 420
    },
    "executionInfo": {
     "elapsed": 5,
     "status": "error",
     "timestamp": 1675428338518,
     "user": {
      "displayName": "안중찬",
      "userId": "08828478468558364799"
     },
     "user_tz": -540
    },
    "id": "6gIW9DXYFsGm",
    "outputId": "b8873f58-ebe7-4100-f783-450b718c2560"
   },
   "outputs": [
    {
     "name": "stderr",
     "output_type": "stream",
     "text": [
      "C:\\Users\\ahn\\AppData\\Local\\Temp/ipykernel_20740/2952513205.py:6: UserWarning: nn.init.xavier_uniform is now deprecated in favor of nn.init.xavier_uniform_.\n",
      "  nn.init.xavier_uniform(self.W.weight.data)\n"
     ]
    },
    {
     "ename": "TypeError",
     "evalue": "'method' object is not iterable",
     "output_type": "error",
     "traceback": [
      "\u001b[1;31m---------------------------------------------------------------------------\u001b[0m",
      "\u001b[1;31mTypeError\u001b[0m                                 Traceback (most recent call last)",
      "\u001b[1;32m~\\AppData\\Local\\Temp/ipykernel_20740/1720715908.py\u001b[0m in \u001b[0;36m<module>\u001b[1;34m\u001b[0m\n\u001b[0;32m      9\u001b[0m \u001b[0mloss\u001b[0m \u001b[1;33m=\u001b[0m \u001b[0mnn\u001b[0m\u001b[1;33m.\u001b[0m\u001b[0mBCEWithLogitsLoss\u001b[0m\u001b[1;33m(\u001b[0m\u001b[1;33m)\u001b[0m\u001b[1;33m\u001b[0m\u001b[1;33m\u001b[0m\u001b[0m\n\u001b[0;32m     10\u001b[0m \u001b[0mmodel\u001b[0m \u001b[1;33m=\u001b[0m \u001b[0mDGI\u001b[0m\u001b[1;33m(\u001b[0m\u001b[0mx_p\u001b[0m\u001b[1;33m,\u001b[0m\u001b[0mx_n\u001b[0m\u001b[1;33m,\u001b[0m\u001b[0madj\u001b[0m\u001b[1;33m)\u001b[0m\u001b[1;33m\u001b[0m\u001b[1;33m\u001b[0m\u001b[0m\n\u001b[1;32m---> 11\u001b[1;33m \u001b[0moptimizer\u001b[0m \u001b[1;33m=\u001b[0m \u001b[0mtorch\u001b[0m\u001b[1;33m.\u001b[0m\u001b[0moptim\u001b[0m\u001b[1;33m.\u001b[0m\u001b[0mAdam\u001b[0m\u001b[1;33m(\u001b[0m\u001b[0mmodel\u001b[0m\u001b[1;33m.\u001b[0m\u001b[0mparameters\u001b[0m\u001b[1;33m,\u001b[0m \u001b[0mlr\u001b[0m \u001b[1;33m=\u001b[0m \u001b[1;36m0.001\u001b[0m\u001b[1;33m)\u001b[0m\u001b[1;33m\u001b[0m\u001b[1;33m\u001b[0m\u001b[0m\n\u001b[0m",
      "\u001b[1;32m~\\anaconda3\\lib\\site-packages\\torch\\optim\\adam.py\u001b[0m in \u001b[0;36m__init__\u001b[1;34m(self, params, lr, betas, eps, weight_decay, amsgrad, foreach, maximize, capturable, differentiable, fused)\u001b[0m\n\u001b[0;32m    135\u001b[0m                         \u001b[0mmaximize\u001b[0m\u001b[1;33m=\u001b[0m\u001b[0mmaximize\u001b[0m\u001b[1;33m,\u001b[0m \u001b[0mforeach\u001b[0m\u001b[1;33m=\u001b[0m\u001b[0mforeach\u001b[0m\u001b[1;33m,\u001b[0m \u001b[0mcapturable\u001b[0m\u001b[1;33m=\u001b[0m\u001b[0mcapturable\u001b[0m\u001b[1;33m,\u001b[0m\u001b[1;33m\u001b[0m\u001b[1;33m\u001b[0m\u001b[0m\n\u001b[0;32m    136\u001b[0m                         differentiable=differentiable, fused=fused)\n\u001b[1;32m--> 137\u001b[1;33m         \u001b[0msuper\u001b[0m\u001b[1;33m(\u001b[0m\u001b[0mAdam\u001b[0m\u001b[1;33m,\u001b[0m \u001b[0mself\u001b[0m\u001b[1;33m)\u001b[0m\u001b[1;33m.\u001b[0m\u001b[0m__init__\u001b[0m\u001b[1;33m(\u001b[0m\u001b[0mparams\u001b[0m\u001b[1;33m,\u001b[0m \u001b[0mdefaults\u001b[0m\u001b[1;33m)\u001b[0m\u001b[1;33m\u001b[0m\u001b[1;33m\u001b[0m\u001b[0m\n\u001b[0m\u001b[0;32m    138\u001b[0m \u001b[1;33m\u001b[0m\u001b[0m\n\u001b[0;32m    139\u001b[0m         \u001b[1;32mif\u001b[0m \u001b[0mfused\u001b[0m\u001b[1;33m:\u001b[0m\u001b[1;33m\u001b[0m\u001b[1;33m\u001b[0m\u001b[0m\n",
      "\u001b[1;32m~\\anaconda3\\lib\\site-packages\\torch\\optim\\optimizer.py\u001b[0m in \u001b[0;36m__init__\u001b[1;34m(self, params, defaults)\u001b[0m\n\u001b[0;32m     57\u001b[0m         \u001b[0mself\u001b[0m\u001b[1;33m.\u001b[0m\u001b[0mparam_groups\u001b[0m \u001b[1;33m=\u001b[0m \u001b[1;33m[\u001b[0m\u001b[1;33m]\u001b[0m\u001b[1;33m\u001b[0m\u001b[1;33m\u001b[0m\u001b[0m\n\u001b[0;32m     58\u001b[0m \u001b[1;33m\u001b[0m\u001b[0m\n\u001b[1;32m---> 59\u001b[1;33m         \u001b[0mparam_groups\u001b[0m \u001b[1;33m=\u001b[0m \u001b[0mlist\u001b[0m\u001b[1;33m(\u001b[0m\u001b[0mparams\u001b[0m\u001b[1;33m)\u001b[0m\u001b[1;33m\u001b[0m\u001b[1;33m\u001b[0m\u001b[0m\n\u001b[0m\u001b[0;32m     60\u001b[0m         \u001b[1;32mif\u001b[0m \u001b[0mlen\u001b[0m\u001b[1;33m(\u001b[0m\u001b[0mparam_groups\u001b[0m\u001b[1;33m)\u001b[0m \u001b[1;33m==\u001b[0m \u001b[1;36m0\u001b[0m\u001b[1;33m:\u001b[0m\u001b[1;33m\u001b[0m\u001b[1;33m\u001b[0m\u001b[0m\n\u001b[0;32m     61\u001b[0m             \u001b[1;32mraise\u001b[0m \u001b[0mValueError\u001b[0m\u001b[1;33m(\u001b[0m\u001b[1;34m\"optimizer got an empty parameter list\"\u001b[0m\u001b[1;33m)\u001b[0m\u001b[1;33m\u001b[0m\u001b[1;33m\u001b[0m\u001b[0m\n",
      "\u001b[1;31mTypeError\u001b[0m: 'method' object is not iterable"
     ]
    }
   ],
   "source": [
    "from torch_geometric.utils import to_dense_adj\n",
    "data = dataset[0]\n",
    "epochs = 10\n",
    "n_features = 512\n",
    "x_p = data.x\n",
    "x_n = data.y\n",
    "adj = to_dense_adj(data.edge_index)\n",
    "\n",
    "loss = nn.BCEWithLogitsLoss()\n",
    "model = DGI(x_p,x_n,adj)\n",
    "optimizer = torch.optim.Adam(model.parameters, lr = 0.001)"
   ]
  },
  {
   "cell_type": "code",
   "execution_count": 29,
   "metadata": {
    "colab": {
     "base_uri": "https://localhost:8080/"
    },
    "executionInfo": {
     "elapsed": 5,
     "status": "ok",
     "timestamp": 1675427585882,
     "user": {
      "displayName": "안중찬",
      "userId": "08828478468558364799"
     },
     "user_tz": -540
    },
    "id": "fgsOZVs2QcwX",
    "outputId": "9df442dd-b5cc-4cbc-c7e1-ed322fa7c25a"
   },
   "outputs": [
    {
     "data": {
      "text/plain": [
       "1"
      ]
     },
     "execution_count": 29,
     "metadata": {},
     "output_type": "execute_result"
    }
   ],
   "source": []
  },
  {
   "cell_type": "code",
   "execution_count": null,
   "metadata": {
    "id": "D7iaZ7N7Q_3T"
   },
   "outputs": [],
   "source": []
  }
 ],
 "metadata": {
  "accelerator": "GPU",
  "colab": {
   "authorship_tag": "ABX9TyMnXCCekpf9T+pk66TUuEKH",
   "provenance": []
  },
  "gpuClass": "standard",
  "kernelspec": {
   "display_name": "Python 3 (ipykernel)",
   "language": "python",
   "name": "python3"
  },
  "language_info": {
   "codemirror_mode": {
    "name": "ipython",
    "version": 3
   },
   "file_extension": ".py",
   "mimetype": "text/x-python",
   "name": "python",
   "nbconvert_exporter": "python",
   "pygments_lexer": "ipython3",
   "version": "3.9.7"
  }
 },
 "nbformat": 4,
 "nbformat_minor": 1
}
